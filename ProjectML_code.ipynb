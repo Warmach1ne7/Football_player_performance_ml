{
  "cells": [
    {
      "cell_type": "code",
      "execution_count": null,
      "metadata": {
        "id": "OQ3tVVCUzxYO",
        "colab": {
          "base_uri": "https://localhost:8080/"
        },
        "outputId": "9eeaa7b1-3063-4e40-97a8-70a21a9fa735"
      },
      "outputs": [
        {
          "output_type": "stream",
          "name": "stdout",
          "text": [
            "Mounted at /content/drive\n"
          ]
        }
      ],
      "source": [
        "from google.colab import drive\n",
        "drive.mount('/content/drive')"
      ]
    },
    {
      "cell_type": "code",
      "execution_count": null,
      "metadata": {
        "id": "PCS4o8llz_Bq"
      },
      "outputs": [],
      "source": [
        "import pandas as pd\n",
        "url=\"/content/drive/MyDrive/Kaggle football dataset\"\n",
        "appearances=pd.read_csv(url+\"/appearances.csv\")\n",
        "club_games=pd.read_csv(url+\"/club_games.csv\")\n",
        "clubs=pd.read_csv(url+'/clubs.csv')\n",
        "competitions=pd.read_csv(url+'/competitions.csv')\n",
        "game_events=pd.read_csv(url+'/game_events.csv')\n",
        "game_lineups=pd.read_csv(url+'/game_lineups.csv')\n",
        "games=pd.read_csv(url+'/games.csv')\n",
        "player_valuations=pd.read_csv(url+'/player_valuations.csv')\n",
        "players=pd.read_csv(url+'/players.csv')\n",
        "transfers=pd.read_csv(url+'/transfers.csv')"
      ]
    },
    {
      "cell_type": "code",
      "source": [
        "import warnings\n",
        "warnings.filterwarnings('ignore')\n"
      ],
      "metadata": {
        "id": "1vToHKKJlBBM"
      },
      "execution_count": null,
      "outputs": []
    },
    {
      "cell_type": "code",
      "execution_count": null,
      "metadata": {
        "id": "spWebmKg3Exs"
      },
      "outputs": [],
      "source": [
        "season = ['2023-2024', '2022-2023', '2021-2022', '2020-2021', '2019-2020', '2018-2019', '2017-2018',\n",
        "          '2016-2017', '2015-2016', '2014-2015', '2013-2014',]\n",
        "\n",
        "scrapeoutputurl = \"/content/drive/MyDrive/Scrape_output/\""
      ]
    },
    {
      "cell_type": "code",
      "execution_count": null,
      "metadata": {
        "id": "-aAIrRZ88zrW"
      },
      "outputs": [],
      "source": [
        "LaLigaSquadStats = {}\n",
        "LaLigaStandings = {}\n",
        "LaLigaPassing = {}\n",
        "LaLigaDefence = {}\n",
        "LaLigaPossession = {}\n",
        "LaLigaGoalShot = {}\n",
        "LaLigaGoalkeeping = {}\n",
        "LaLigaURL = pd.read_csv(\"/content/drive/MyDrive/FBref_all_links_csv/Fbref_laliga_stats_url.csv\")\n",
        "for url in LaLigaURL:\n",
        "    k = url.rfind(\"/\")\n",
        "    file_name = url[k+1:]\n",
        "    file_path = scrapeoutputurl +\"LaLiga/\" + file_name + \".xlsx\"\n",
        "    year = file_name.split(\"-La-Liga-Stats\")[0]\n",
        "    # Read all sheets\n",
        "    all_sheets_dict = pd.read_excel(file_path, sheet_name=None)\n",
        "\n",
        "    # Append relevant sheets to their respective lists\n",
        "    if \"Squad\" in all_sheets_dict:\n",
        "        #LaLigaSquadStats.append(all_sheets_dict[\"Squad\"])\n",
        "        LaLigaSquadStats[year] = all_sheets_dict[\"Squad\"]\n",
        "    if \"Standings\" in all_sheets_dict:\n",
        "        LaLigaStandings[year] = all_sheets_dict[\"Standings\"]\n",
        "    if \"Passing\" in all_sheets_dict:\n",
        "        LaLigaPassing[year] = all_sheets_dict[\"Passing\"]\n",
        "    if \"Defence\" in all_sheets_dict:\n",
        "        LaLigaDefence[year] = all_sheets_dict[\"Defence\"]\n",
        "    if \"Possession\" in all_sheets_dict:\n",
        "        LaLigaPossession[year] = all_sheets_dict[\"Possession\"]\n",
        "    if \"Goal Shot\" in all_sheets_dict:\n",
        "        LaLigaGoalShot[year] = all_sheets_dict[\"Squad Shooting\"]\n",
        "    if \"Goalkeeping\" in all_sheets_dict:\n",
        "        LaLigaGoalkeeping[year] = all_sheets_dict[\"Goalkeeping\"]"
      ]
    },
    {
      "cell_type": "code",
      "source": [
        "len(LaLigaGoalShot)"
      ],
      "metadata": {
        "colab": {
          "base_uri": "https://localhost:8080/"
        },
        "id": "PSBs-EfinFW7",
        "outputId": "b1028983-fc3b-4f8d-f1bb-06424a6ebf78"
      },
      "execution_count": null,
      "outputs": [
        {
          "output_type": "execute_result",
          "data": {
            "text/plain": [
              "7"
            ]
          },
          "metadata": {},
          "execution_count": 295
        }
      ]
    },
    {
      "cell_type": "code",
      "source": [
        "LaLigaPlayerStats = {}\n",
        "laligaplayerfilepath = scrapeoutputurl + \"LaLiga/\"\n",
        "for year in season:\n",
        "  standing_df = pd.read_excel(laligaplayerfilepath + year +\"-La-Liga-Statsplayers.xlsx\", sheet_name='Standings')\n",
        "  passing_df = pd.read_excel(laligaplayerfilepath + year +\"-La-Liga-Statsplayers.xlsx\", sheet_name='Passing')\n",
        "  defence_df = pd.read_excel(laligaplayerfilepath + year +\"-La-Liga-Statsplayers.xlsx\", sheet_name='Defence')\n",
        "  possession_df = pd.read_excel(laligaplayerfilepath + year +\"-La-Liga-Statsplayers.xlsx\", sheet_name='Possession')\n",
        "  #TODO merge all this into LaLigaPlayerstats[year]\n",
        "  merged_df = passing_df.merge(defence_df, on='player', suffixes=('_passing', '_defense'))\n",
        "  merged_df = merged_df.merge(possession_df, on='player', suffixes=('_defense', '_possession'))\n",
        "  merged_df = merged_df.merge(standing_df, on='player', suffixes=('_possession', '_standings'))\n",
        "\n",
        "  # Store the merged DataFrame in the dictionary for the current season\n",
        "  LaLigaPlayerStats[year] = merged_df\n",
        "  print(year)\n",
        "  # Optional: Display the merged DataFrame for verification\n"
      ],
      "metadata": {
        "colab": {
          "base_uri": "https://localhost:8080/"
        },
        "id": "6a5MSwMkzt1N",
        "outputId": "03af0f8c-6d9f-4f48-ac65-03bd9bca07eb"
      },
      "execution_count": null,
      "outputs": [
        {
          "output_type": "stream",
          "name": "stdout",
          "text": [
            "2023-2024\n",
            "2022-2023\n",
            "2021-2022\n",
            "2020-2021\n",
            "2019-2020\n",
            "2018-2019\n",
            "2017-2018\n",
            "2016-2017\n",
            "2015-2016\n",
            "2014-2015\n",
            "2013-2014\n"
          ]
        }
      ]
    },
    {
      "cell_type": "code",
      "source": [
        "playerdata_df = LaLigaPlayerStats['2023-2024']"
      ],
      "metadata": {
        "id": "TP9ZmqcYakew"
      },
      "execution_count": null,
      "outputs": []
    },
    {
      "cell_type": "code",
      "source": [
        "most_common_positions = (\n",
        "    game_lineups.groupby(\"player_id\")[\"position\"]\n",
        "    .agg(lambda x: x.value_counts().idxmax() if len(x.dropna()) > 0 else None)  # Handle missing positions\n",
        "    .reset_index()\n",
        "    .rename(columns={\"position\": \"field_position\"})\n",
        ")\n",
        "# Step 1: Ensure `player_name` is unique in `player_field_positions`\n",
        "# If there are duplicates, take the first occurrence or handle appropriately\n",
        "player_field_positions = (\n",
        "    game_lineups[[\"player_id\", \"player_name\"]]\n",
        "    .drop_duplicates()  # Remove duplicates\n",
        "    .merge(most_common_positions, on=\"player_id\", how=\"left\")\n",
        ")\n",
        "\n",
        "# Step 2: Handle duplicates in `player_name`\n",
        "player_field_positions = player_field_positions.drop_duplicates(subset=\"player_name\")\n",
        "\n",
        "# Step 3: Map `field_position` to `LaLigaPlayerstats['2023-2024']` using `player`\n",
        "playerdata_df[\"field_position\"] = playerdata_df[\"player\"].map(\n",
        "    player_field_positions.set_index(\"player_name\")[\"field_position\"]\n",
        ")\n",
        "\n",
        "# Verify results\n",
        "print(playerdata_df[[\"player\", \"field_position\"]].head())\n"
      ],
      "metadata": {
        "colab": {
          "base_uri": "https://localhost:8080/"
        },
        "id": "NnATUvXx7YFV",
        "outputId": "fe0d67e3-3693-4600-c8e9-02b79028cf43"
      },
      "execution_count": null,
      "outputs": [
        {
          "output_type": "stream",
          "name": "stdout",
          "text": [
            "               player field_position\n",
            "0       Nabil Aberdin    Centre-Back\n",
            "1               Abner      Left-Back\n",
            "2         Abdel Abqar    Centre-Back\n",
            "3        Marcos Acuña      Left-Back\n",
            "4  Julen Agirrezabala     Goalkeeper\n"
          ]
        }
      ]
    },
    {
      "cell_type": "code",
      "source": [
        "# Create a mapping of position initials to full names (if you need one)\n",
        "position_mapping = {\n",
        "    \"FW\": \"Forward\",\n",
        "    \"MF\": \"Midfielder\",\n",
        "    \"DF\": \"Defender\",\n",
        "    \"GK\": \"Goalkeeper\",\n",
        "    # Add more mappings as needed\n",
        "}\n",
        "\n",
        "# Fill NaN values in 'field_position' with corresponding values from 'position' column\n",
        "playerdata_df[\"field_position\"] = playerdata_df[\"field_position\"].fillna(\n",
        "    playerdata_df[\"position_standings\"].map(position_mapping)\n",
        ")\n",
        "\n",
        "# Verify if NaN values have been filled\n",
        "nan_count_after = playerdata_df[\"field_position\"].isna().sum()\n",
        "print(f\"Number of players with NaN field_position after filling: {nan_count_after}\")\n"
      ],
      "metadata": {
        "colab": {
          "base_uri": "https://localhost:8080/"
        },
        "id": "hXl58nec-umH",
        "outputId": "6d0564df-e71b-438f-f2c2-3fef22fcfbe9"
      },
      "execution_count": null,
      "outputs": [
        {
          "output_type": "stream",
          "name": "stdout",
          "text": [
            "Number of players with NaN field_position after filling: 331848\n"
          ]
        }
      ]
    },
    {
      "cell_type": "code",
      "source": [
        "playerdata_df[]"
      ],
      "metadata": {
        "colab": {
          "base_uri": "https://localhost:8080/",
          "height": 106
        },
        "id": "2KRNtqZ8fUSP",
        "outputId": "40f7cb71-8598-4c89-c066-4fb72c4c607d"
      },
      "execution_count": null,
      "outputs": [
        {
          "output_type": "error",
          "ename": "SyntaxError",
          "evalue": "invalid syntax (<ipython-input-299-4ba6690a7d97>, line 1)",
          "traceback": [
            "\u001b[0;36m  File \u001b[0;32m\"<ipython-input-299-4ba6690a7d97>\"\u001b[0;36m, line \u001b[0;32m1\u001b[0m\n\u001b[0;31m    playerdata_df[]\u001b[0m\n\u001b[0m                  ^\u001b[0m\n\u001b[0;31mSyntaxError\u001b[0m\u001b[0;31m:\u001b[0m invalid syntax\n"
          ]
        }
      ]
    },
    {
      "cell_type": "code",
      "source": [
        "columns_list = playerdata_df.columns.tolist()\n",
        "print(columns_list)"
      ],
      "metadata": {
        "id": "NnfgS79XAIFD"
      },
      "execution_count": null,
      "outputs": []
    },
    {
      "cell_type": "code",
      "source": [
        "# Group by the 'field_position' column and count the unique values for each group\n",
        "unique_counts = playerdata_df.groupby('field_position').size().reset_index(name='count')\n",
        "\n",
        "# Display the result\n",
        "print(unique_counts)\n"
      ],
      "metadata": {
        "id": "lGaSYXQYBcV-"
      },
      "execution_count": null,
      "outputs": []
    },
    {
      "cell_type": "code",
      "source": [
        "midfielder_data_df = playerdata_df[playerdata_df['position_standings'].str.contains('MF', na=False)]\n"
      ],
      "metadata": {
        "id": "ELMPWxMskCLU"
      },
      "execution_count": null,
      "outputs": []
    },
    {
      "cell_type": "code",
      "source": [],
      "metadata": {
        "id": "xTzSgpShlJZl"
      },
      "execution_count": null,
      "outputs": []
    },
    {
      "cell_type": "code",
      "source": [
        "def clean_numeric_column(df, column_name):\n",
        "    \"\"\"\n",
        "    Cleans a numeric column by:\n",
        "    - Removing commas\n",
        "    - Converting to float\n",
        "    - Handling NaN, empty strings, or invalid entries\n",
        "    \"\"\"\n",
        "    df[column_name] = df[column_name].replace({',': ''}, regex=True)  # Remove commas\n",
        "    df[column_name] = pd.to_numeric(df[column_name], errors='coerce')  # Convert to float; invalid entries become NaN\n",
        "    df[column_name] = df[column_name].fillna(0)  # Replace NaN with 0 (or choose another strategy, e.g., mean)\n",
        "    return df\n",
        "# List of numeric columns to clean\n",
        "numeric_columns = [\n",
        "    'xg', 'goals', 'npxg_xg_assist', 'passes', 'passes_pct', 'assists_standings',\n",
        "    'tackles', 'tackles_won', 'challenges', 'blocks', 'blocked_shots',\n",
        "    'blocked_passes', 'interceptions', 'passes_into_final_third',\n",
        "    'progressive_carries_standings', 'pass_xa', 'assisted_shots',\n",
        "    'crosses_into_penalty_area', 'touches', 'take_ons_won',\n",
        "    'carries_progressive_distance', 'miscontrols', 'minutes',\n",
        "    'passes_total_distance', 'dispossessed'\n",
        "]\n",
        "\n",
        "# Clean all numeric columns\n",
        "for col in numeric_columns:\n",
        "    midfielder_data_df = clean_numeric_column(midfielder_data_df, col)\n"
      ],
      "metadata": {
        "id": "pz3dWr9boSkc"
      },
      "execution_count": null,
      "outputs": []
    },
    {
      "cell_type": "code",
      "source": [
        "from sklearn.preprocessing import MinMaxScaler\n",
        "import pandas as pd\n",
        "\n",
        "def calculate_composite_score(df, features, weights):\n",
        "    # Initialize MinMaxScaler\n",
        "    scaler = MinMaxScaler()\n",
        "\n",
        "    # Normalize the feature columns\n",
        "    df[features] = scaler.fit_transform(df[features])\n",
        "\n",
        "    # Calculate the composite score using the weights for each feature\n",
        "    df['composite_score'] = (\n",
        "        df['goals'] * weights['goals'] +\n",
        "        df['assists_standings'] * weights['assists'] +\n",
        "        df['xg'] * weights['xg'] +\n",
        "        df['passes'] * weights['passes'] +\n",
        "        df['passes_pct'] * weights['passes_pct'] +\n",
        "        df['minutes'] * weights['minutes'] +\n",
        "        df['progressive_carries_standings'] * weights['progressive_carries_standings'] +\n",
        "        df['tackles_won'] * weights['tackles_won'] +\n",
        "        df['blocks'] * weights['blocks'] +\n",
        "        df['blocked_shots'] * weights['blocked_shots'] +\n",
        "        df['interceptions'] * weights['interceptions'] +\n",
        "        df['take_ons_won'] * weights['take_ons_won'] +\n",
        "        df['carries_progressive_distance'] * weights['carries_progressive_distance'] +\n",
        "        df['pass_xa'] * weights['pass_xa'] +\n",
        "        df['assisted_shots'] * weights['assisted_shots'] +\n",
        "        df['passes_into_final_third'] * weights['passes_into_final_third'] +\n",
        "        df['crosses_into_penalty_area'] * weights['crosses_into_penalty_area'] +\n",
        "        df['carries'] * weights['carries'] -\n",
        "        df['miscontrols'] * weights['miscontrols'] -\n",
        "        df['dispossessed'] * weights['dispossessed']\n",
        "    )\n",
        "\n",
        "    return df\n",
        "\n",
        "# Example usage:\n",
        "# Define the features and weights\n",
        "features = ['goals', 'assists_standings', 'xg', 'passes','passes_pct', 'minutes', 'progressive_carries_standings',\n",
        "            'tackles_won', 'blocks', 'interceptions', 'take_ons_won', 'carries_progressive_distance',\n",
        "            'pass_xa', 'assisted_shots', 'passes_into_final_third', 'crosses_into_penalty_area',\n",
        "            'carries','blocked_shots', 'miscontrols', 'dispossessed']\n",
        "\n",
        "weights = {\n",
        "    'goals': 0.2,  # Lower for midfielders\n",
        "    'assists': 0.2,  # Assists are still key\n",
        "    'xg': 0.15,  # xG can be critical for attacking midfielders\n",
        "    'passes': 0.05,  # Slightly more importance\n",
        "    'passes_pct': 0.05,  # Passing accuracy matters\n",
        "    'minutes': 0.03,  # Consistency\n",
        "    'progressive_carries_standings': 0.1,\n",
        "    'tackles_won': 0.12,\n",
        "    'blocks': 0.08,\n",
        "    'blocked_shots': 0.05,\n",
        "    'interceptions': 0.15,\n",
        "    'take_ons_won': 0.1,  # Ability to beat players\n",
        "    'carries_progressive_distance': 0.1,\n",
        "    'pass_xa': 0.15,  # Key passes for assists\n",
        "    'assisted_shots': 0.08,\n",
        "    'passes_into_final_third': 0.15,\n",
        "    'crosses_into_penalty_area': 0.08,\n",
        "    'carries': 0.1,\n",
        "    'miscontrols': 0.1,  # Reduced penalty\n",
        "    'dispossessed': 0.1\n",
        "}\n",
        "\n",
        "# Assuming you have a DataFrame `midfielder_data_df_df`\n",
        "# Apply the function to calculate the composite score\n",
        "midfielder_data_df = calculate_composite_score(midfielder_data_df, features, weights)\n",
        "\n",
        "midfielder_data_df.head()\n"
      ],
      "metadata": {
        "colab": {
          "base_uri": "https://localhost:8080/",
          "height": 325
        },
        "id": "W4NpYjasqbL4",
        "outputId": "6354b753-aeda-447f-cf28-91b2a5d2e5ad"
      },
      "execution_count": null,
      "outputs": [
        {
          "output_type": "execute_result",
          "data": {
            "text/plain": [
              "   ranker_passing          player nationality_passing position_passing  \\\n",
              "5               6   Lucien Agoume              fr FRA               MF   \n",
              "7               8  Ilias Akhomach              ma MAR            MF,FW   \n",
              "9              10   Paul Akouokou              ci CIV               MF   \n",
              "12             13   Rubén Alcaraz              es ESP               MF   \n",
              "14             15      Iván Alejo              es ESP               MF   \n",
              "\n",
              "   team_passing  age_passing  birth_year_passing  minutes_90s_passing  \\\n",
              "5       Sevilla         21.0              2002.0                  8.6   \n",
              "7    Villarreal         19.0              2004.0                 16.8   \n",
              "9         Betis         25.0              1997.0                  0.3   \n",
              "12        Cádiz         32.0              1991.0                 34.8   \n",
              "14        Cádiz         28.0              1995.0                 18.8   \n",
              "\n",
              "    passes_completed    passes  ...  goals_pens_per90  \\\n",
              "5              301.0  0.117570  ...              0.00   \n",
              "7              372.0  0.157087  ...              0.12   \n",
              "9               16.0  0.005552  ...              0.00   \n",
              "12            1271.0  0.516656  ...              0.03   \n",
              "14             245.0  0.157087  ...              0.00   \n",
              "\n",
              "    goals_assists_pens_per90  xg_per90  xg_assist_per90  xg_xg_assist_per90  \\\n",
              "5                       0.00      0.10             0.07                0.17   \n",
              "7                       0.24      0.19             0.15                0.34   \n",
              "9                       0.00      0.00             0.00                0.00   \n",
              "12                      0.06      0.09             0.04                0.13   \n",
              "14                      0.11      0.03             0.07                0.10   \n",
              "\n",
              "    npxg_per90  npxg_xg_assist_per90  matches_standings      field_position  \\\n",
              "5         0.10                  0.17            Matches          Midfielder   \n",
              "7         0.19                  0.34            Matches        Right Winger   \n",
              "9         0.00                  0.00            Matches  Defensive Midfield   \n",
              "12        0.05                  0.09            Matches    Central Midfield   \n",
              "14        0.03                  0.10            Matches        Right Winger   \n",
              "\n",
              "    composite_score  \n",
              "5          0.182969  \n",
              "7          0.378975  \n",
              "9          0.062236  \n",
              "12         0.650085  \n",
              "14         0.314079  \n",
              "\n",
              "[5 rows x 124 columns]"
            ],
            "text/html": [
              "\n",
              "  <div id=\"df-9733a143-b7fa-4886-ac48-fcce4854aa86\" class=\"colab-df-container\">\n",
              "    <div>\n",
              "<style scoped>\n",
              "    .dataframe tbody tr th:only-of-type {\n",
              "        vertical-align: middle;\n",
              "    }\n",
              "\n",
              "    .dataframe tbody tr th {\n",
              "        vertical-align: top;\n",
              "    }\n",
              "\n",
              "    .dataframe thead th {\n",
              "        text-align: right;\n",
              "    }\n",
              "</style>\n",
              "<table border=\"1\" class=\"dataframe\">\n",
              "  <thead>\n",
              "    <tr style=\"text-align: right;\">\n",
              "      <th></th>\n",
              "      <th>ranker_passing</th>\n",
              "      <th>player</th>\n",
              "      <th>nationality_passing</th>\n",
              "      <th>position_passing</th>\n",
              "      <th>team_passing</th>\n",
              "      <th>age_passing</th>\n",
              "      <th>birth_year_passing</th>\n",
              "      <th>minutes_90s_passing</th>\n",
              "      <th>passes_completed</th>\n",
              "      <th>passes</th>\n",
              "      <th>...</th>\n",
              "      <th>goals_pens_per90</th>\n",
              "      <th>goals_assists_pens_per90</th>\n",
              "      <th>xg_per90</th>\n",
              "      <th>xg_assist_per90</th>\n",
              "      <th>xg_xg_assist_per90</th>\n",
              "      <th>npxg_per90</th>\n",
              "      <th>npxg_xg_assist_per90</th>\n",
              "      <th>matches_standings</th>\n",
              "      <th>field_position</th>\n",
              "      <th>composite_score</th>\n",
              "    </tr>\n",
              "  </thead>\n",
              "  <tbody>\n",
              "    <tr>\n",
              "      <th>5</th>\n",
              "      <td>6</td>\n",
              "      <td>Lucien Agoume</td>\n",
              "      <td>fr FRA</td>\n",
              "      <td>MF</td>\n",
              "      <td>Sevilla</td>\n",
              "      <td>21.0</td>\n",
              "      <td>2002.0</td>\n",
              "      <td>8.6</td>\n",
              "      <td>301.0</td>\n",
              "      <td>0.117570</td>\n",
              "      <td>...</td>\n",
              "      <td>0.00</td>\n",
              "      <td>0.00</td>\n",
              "      <td>0.10</td>\n",
              "      <td>0.07</td>\n",
              "      <td>0.17</td>\n",
              "      <td>0.10</td>\n",
              "      <td>0.17</td>\n",
              "      <td>Matches</td>\n",
              "      <td>Midfielder</td>\n",
              "      <td>0.182969</td>\n",
              "    </tr>\n",
              "    <tr>\n",
              "      <th>7</th>\n",
              "      <td>8</td>\n",
              "      <td>Ilias Akhomach</td>\n",
              "      <td>ma MAR</td>\n",
              "      <td>MF,FW</td>\n",
              "      <td>Villarreal</td>\n",
              "      <td>19.0</td>\n",
              "      <td>2004.0</td>\n",
              "      <td>16.8</td>\n",
              "      <td>372.0</td>\n",
              "      <td>0.157087</td>\n",
              "      <td>...</td>\n",
              "      <td>0.12</td>\n",
              "      <td>0.24</td>\n",
              "      <td>0.19</td>\n",
              "      <td>0.15</td>\n",
              "      <td>0.34</td>\n",
              "      <td>0.19</td>\n",
              "      <td>0.34</td>\n",
              "      <td>Matches</td>\n",
              "      <td>Right Winger</td>\n",
              "      <td>0.378975</td>\n",
              "    </tr>\n",
              "    <tr>\n",
              "      <th>9</th>\n",
              "      <td>10</td>\n",
              "      <td>Paul Akouokou</td>\n",
              "      <td>ci CIV</td>\n",
              "      <td>MF</td>\n",
              "      <td>Betis</td>\n",
              "      <td>25.0</td>\n",
              "      <td>1997.0</td>\n",
              "      <td>0.3</td>\n",
              "      <td>16.0</td>\n",
              "      <td>0.005552</td>\n",
              "      <td>...</td>\n",
              "      <td>0.00</td>\n",
              "      <td>0.00</td>\n",
              "      <td>0.00</td>\n",
              "      <td>0.00</td>\n",
              "      <td>0.00</td>\n",
              "      <td>0.00</td>\n",
              "      <td>0.00</td>\n",
              "      <td>Matches</td>\n",
              "      <td>Defensive Midfield</td>\n",
              "      <td>0.062236</td>\n",
              "    </tr>\n",
              "    <tr>\n",
              "      <th>12</th>\n",
              "      <td>13</td>\n",
              "      <td>Rubén Alcaraz</td>\n",
              "      <td>es ESP</td>\n",
              "      <td>MF</td>\n",
              "      <td>Cádiz</td>\n",
              "      <td>32.0</td>\n",
              "      <td>1991.0</td>\n",
              "      <td>34.8</td>\n",
              "      <td>1271.0</td>\n",
              "      <td>0.516656</td>\n",
              "      <td>...</td>\n",
              "      <td>0.03</td>\n",
              "      <td>0.06</td>\n",
              "      <td>0.09</td>\n",
              "      <td>0.04</td>\n",
              "      <td>0.13</td>\n",
              "      <td>0.05</td>\n",
              "      <td>0.09</td>\n",
              "      <td>Matches</td>\n",
              "      <td>Central Midfield</td>\n",
              "      <td>0.650085</td>\n",
              "    </tr>\n",
              "    <tr>\n",
              "      <th>14</th>\n",
              "      <td>15</td>\n",
              "      <td>Iván Alejo</td>\n",
              "      <td>es ESP</td>\n",
              "      <td>MF</td>\n",
              "      <td>Cádiz</td>\n",
              "      <td>28.0</td>\n",
              "      <td>1995.0</td>\n",
              "      <td>18.8</td>\n",
              "      <td>245.0</td>\n",
              "      <td>0.157087</td>\n",
              "      <td>...</td>\n",
              "      <td>0.00</td>\n",
              "      <td>0.11</td>\n",
              "      <td>0.03</td>\n",
              "      <td>0.07</td>\n",
              "      <td>0.10</td>\n",
              "      <td>0.03</td>\n",
              "      <td>0.10</td>\n",
              "      <td>Matches</td>\n",
              "      <td>Right Winger</td>\n",
              "      <td>0.314079</td>\n",
              "    </tr>\n",
              "  </tbody>\n",
              "</table>\n",
              "<p>5 rows × 124 columns</p>\n",
              "</div>\n",
              "    <div class=\"colab-df-buttons\">\n",
              "\n",
              "  <div class=\"colab-df-container\">\n",
              "    <button class=\"colab-df-convert\" onclick=\"convertToInteractive('df-9733a143-b7fa-4886-ac48-fcce4854aa86')\"\n",
              "            title=\"Convert this dataframe to an interactive table.\"\n",
              "            style=\"display:none;\">\n",
              "\n",
              "  <svg xmlns=\"http://www.w3.org/2000/svg\" height=\"24px\" viewBox=\"0 -960 960 960\">\n",
              "    <path d=\"M120-120v-720h720v720H120Zm60-500h600v-160H180v160Zm220 220h160v-160H400v160Zm0 220h160v-160H400v160ZM180-400h160v-160H180v160Zm440 0h160v-160H620v160ZM180-180h160v-160H180v160Zm440 0h160v-160H620v160Z\"/>\n",
              "  </svg>\n",
              "    </button>\n",
              "\n",
              "  <style>\n",
              "    .colab-df-container {\n",
              "      display:flex;\n",
              "      gap: 12px;\n",
              "    }\n",
              "\n",
              "    .colab-df-convert {\n",
              "      background-color: #E8F0FE;\n",
              "      border: none;\n",
              "      border-radius: 50%;\n",
              "      cursor: pointer;\n",
              "      display: none;\n",
              "      fill: #1967D2;\n",
              "      height: 32px;\n",
              "      padding: 0 0 0 0;\n",
              "      width: 32px;\n",
              "    }\n",
              "\n",
              "    .colab-df-convert:hover {\n",
              "      background-color: #E2EBFA;\n",
              "      box-shadow: 0px 1px 2px rgba(60, 64, 67, 0.3), 0px 1px 3px 1px rgba(60, 64, 67, 0.15);\n",
              "      fill: #174EA6;\n",
              "    }\n",
              "\n",
              "    .colab-df-buttons div {\n",
              "      margin-bottom: 4px;\n",
              "    }\n",
              "\n",
              "    [theme=dark] .colab-df-convert {\n",
              "      background-color: #3B4455;\n",
              "      fill: #D2E3FC;\n",
              "    }\n",
              "\n",
              "    [theme=dark] .colab-df-convert:hover {\n",
              "      background-color: #434B5C;\n",
              "      box-shadow: 0px 1px 3px 1px rgba(0, 0, 0, 0.15);\n",
              "      filter: drop-shadow(0px 1px 2px rgba(0, 0, 0, 0.3));\n",
              "      fill: #FFFFFF;\n",
              "    }\n",
              "  </style>\n",
              "\n",
              "    <script>\n",
              "      const buttonEl =\n",
              "        document.querySelector('#df-9733a143-b7fa-4886-ac48-fcce4854aa86 button.colab-df-convert');\n",
              "      buttonEl.style.display =\n",
              "        google.colab.kernel.accessAllowed ? 'block' : 'none';\n",
              "\n",
              "      async function convertToInteractive(key) {\n",
              "        const element = document.querySelector('#df-9733a143-b7fa-4886-ac48-fcce4854aa86');\n",
              "        const dataTable =\n",
              "          await google.colab.kernel.invokeFunction('convertToInteractive',\n",
              "                                                    [key], {});\n",
              "        if (!dataTable) return;\n",
              "\n",
              "        const docLinkHtml = 'Like what you see? Visit the ' +\n",
              "          '<a target=\"_blank\" href=https://colab.research.google.com/notebooks/data_table.ipynb>data table notebook</a>'\n",
              "          + ' to learn more about interactive tables.';\n",
              "        element.innerHTML = '';\n",
              "        dataTable['output_type'] = 'display_data';\n",
              "        await google.colab.output.renderOutput(dataTable, element);\n",
              "        const docLink = document.createElement('div');\n",
              "        docLink.innerHTML = docLinkHtml;\n",
              "        element.appendChild(docLink);\n",
              "      }\n",
              "    </script>\n",
              "  </div>\n",
              "\n",
              "\n",
              "<div id=\"df-29ae0662-9d6f-4d47-af2f-f1b75b6354de\">\n",
              "  <button class=\"colab-df-quickchart\" onclick=\"quickchart('df-29ae0662-9d6f-4d47-af2f-f1b75b6354de')\"\n",
              "            title=\"Suggest charts\"\n",
              "            style=\"display:none;\">\n",
              "\n",
              "<svg xmlns=\"http://www.w3.org/2000/svg\" height=\"24px\"viewBox=\"0 0 24 24\"\n",
              "     width=\"24px\">\n",
              "    <g>\n",
              "        <path d=\"M19 3H5c-1.1 0-2 .9-2 2v14c0 1.1.9 2 2 2h14c1.1 0 2-.9 2-2V5c0-1.1-.9-2-2-2zM9 17H7v-7h2v7zm4 0h-2V7h2v10zm4 0h-2v-4h2v4z\"/>\n",
              "    </g>\n",
              "</svg>\n",
              "  </button>\n",
              "\n",
              "<style>\n",
              "  .colab-df-quickchart {\n",
              "      --bg-color: #E8F0FE;\n",
              "      --fill-color: #1967D2;\n",
              "      --hover-bg-color: #E2EBFA;\n",
              "      --hover-fill-color: #174EA6;\n",
              "      --disabled-fill-color: #AAA;\n",
              "      --disabled-bg-color: #DDD;\n",
              "  }\n",
              "\n",
              "  [theme=dark] .colab-df-quickchart {\n",
              "      --bg-color: #3B4455;\n",
              "      --fill-color: #D2E3FC;\n",
              "      --hover-bg-color: #434B5C;\n",
              "      --hover-fill-color: #FFFFFF;\n",
              "      --disabled-bg-color: #3B4455;\n",
              "      --disabled-fill-color: #666;\n",
              "  }\n",
              "\n",
              "  .colab-df-quickchart {\n",
              "    background-color: var(--bg-color);\n",
              "    border: none;\n",
              "    border-radius: 50%;\n",
              "    cursor: pointer;\n",
              "    display: none;\n",
              "    fill: var(--fill-color);\n",
              "    height: 32px;\n",
              "    padding: 0;\n",
              "    width: 32px;\n",
              "  }\n",
              "\n",
              "  .colab-df-quickchart:hover {\n",
              "    background-color: var(--hover-bg-color);\n",
              "    box-shadow: 0 1px 2px rgba(60, 64, 67, 0.3), 0 1px 3px 1px rgba(60, 64, 67, 0.15);\n",
              "    fill: var(--button-hover-fill-color);\n",
              "  }\n",
              "\n",
              "  .colab-df-quickchart-complete:disabled,\n",
              "  .colab-df-quickchart-complete:disabled:hover {\n",
              "    background-color: var(--disabled-bg-color);\n",
              "    fill: var(--disabled-fill-color);\n",
              "    box-shadow: none;\n",
              "  }\n",
              "\n",
              "  .colab-df-spinner {\n",
              "    border: 2px solid var(--fill-color);\n",
              "    border-color: transparent;\n",
              "    border-bottom-color: var(--fill-color);\n",
              "    animation:\n",
              "      spin 1s steps(1) infinite;\n",
              "  }\n",
              "\n",
              "  @keyframes spin {\n",
              "    0% {\n",
              "      border-color: transparent;\n",
              "      border-bottom-color: var(--fill-color);\n",
              "      border-left-color: var(--fill-color);\n",
              "    }\n",
              "    20% {\n",
              "      border-color: transparent;\n",
              "      border-left-color: var(--fill-color);\n",
              "      border-top-color: var(--fill-color);\n",
              "    }\n",
              "    30% {\n",
              "      border-color: transparent;\n",
              "      border-left-color: var(--fill-color);\n",
              "      border-top-color: var(--fill-color);\n",
              "      border-right-color: var(--fill-color);\n",
              "    }\n",
              "    40% {\n",
              "      border-color: transparent;\n",
              "      border-right-color: var(--fill-color);\n",
              "      border-top-color: var(--fill-color);\n",
              "    }\n",
              "    60% {\n",
              "      border-color: transparent;\n",
              "      border-right-color: var(--fill-color);\n",
              "    }\n",
              "    80% {\n",
              "      border-color: transparent;\n",
              "      border-right-color: var(--fill-color);\n",
              "      border-bottom-color: var(--fill-color);\n",
              "    }\n",
              "    90% {\n",
              "      border-color: transparent;\n",
              "      border-bottom-color: var(--fill-color);\n",
              "    }\n",
              "  }\n",
              "</style>\n",
              "\n",
              "  <script>\n",
              "    async function quickchart(key) {\n",
              "      const quickchartButtonEl =\n",
              "        document.querySelector('#' + key + ' button');\n",
              "      quickchartButtonEl.disabled = true;  // To prevent multiple clicks.\n",
              "      quickchartButtonEl.classList.add('colab-df-spinner');\n",
              "      try {\n",
              "        const charts = await google.colab.kernel.invokeFunction(\n",
              "            'suggestCharts', [key], {});\n",
              "      } catch (error) {\n",
              "        console.error('Error during call to suggestCharts:', error);\n",
              "      }\n",
              "      quickchartButtonEl.classList.remove('colab-df-spinner');\n",
              "      quickchartButtonEl.classList.add('colab-df-quickchart-complete');\n",
              "    }\n",
              "    (() => {\n",
              "      let quickchartButtonEl =\n",
              "        document.querySelector('#df-29ae0662-9d6f-4d47-af2f-f1b75b6354de button');\n",
              "      quickchartButtonEl.style.display =\n",
              "        google.colab.kernel.accessAllowed ? 'block' : 'none';\n",
              "    })();\n",
              "  </script>\n",
              "</div>\n",
              "\n",
              "    </div>\n",
              "  </div>\n"
            ],
            "application/vnd.google.colaboratory.intrinsic+json": {
              "type": "dataframe",
              "variable_name": "midfielder_data_df"
            }
          },
          "metadata": {},
          "execution_count": 14
        }
      ]
    },
    {
      "cell_type": "code",
      "source": [
        "# Sort players by composite metric in descending order\n",
        "top_midfielders = midfielder_data_df.sort_values(by='composite_score', ascending=False)\n",
        "\n",
        "# Display the top players\n",
        "print(top_midfielders[['player', 'composite_score']].head(10))\n",
        "\n",
        "\n",
        "# Display the dataframe with composite scores\n",
        "print(midfielder_data_df[['xg', 'npxg_xg_assist', 'passes', 'assists_standings', 'tackles', 'tackles_won', 'composite_score']])"
      ],
      "metadata": {
        "colab": {
          "base_uri": "https://localhost:8080/"
        },
        "id": "1OhKs7-6t6Je",
        "outputId": "9b67d459-9140-4030-bbcf-872f5fd40cbc"
      },
      "execution_count": null,
      "outputs": [
        {
          "output_type": "stream",
          "name": "stdout",
          "text": [
            "                    player  composite_score\n",
            "76         Jude Bellingham         0.999456\n",
            "298         İlkay Gündoğan         0.995640\n",
            "241           Aleix García         0.989348\n",
            "642                  Sávio         0.972093\n",
            "715  José Luis García Vayá         0.943194\n",
            "713      Federico Valverde         0.928409\n",
            "347             Toni Kroos         0.874990\n",
            "61              Alex Baena         0.868598\n",
            "286      Antoine Griezmann         0.812908\n",
            "614       Kirian Rodríguez         0.774878\n",
            "           xg  npxg_xg_assist    passes  assists_standings  tackles  \\\n",
            "5    0.073171             1.5  0.117570           0.000000     23.0   \n",
            "7    0.260163             5.7  0.157087           0.142857     36.0   \n",
            "9    0.000000             0.0  0.005552           0.000000      5.0   \n",
            "12   0.268293             3.1  0.516656           0.071429     97.0   \n",
            "14   0.040650             1.8  0.157087           0.142857     40.0   \n",
            "..        ...             ...       ...                ...      ...   \n",
            "760  0.154472             4.1  0.306009           0.214286     51.0   \n",
            "768  0.032520             1.0  0.032658           0.000000      5.0   \n",
            "772  0.195122             4.5  0.177008           0.142857     22.0   \n",
            "774  0.308943             6.3  0.145003           0.142857     18.0   \n",
            "776  0.219512             4.1  0.503592           0.071429     49.0   \n",
            "\n",
            "     tackles_won  composite_score  \n",
            "5       0.272727         0.182969  \n",
            "7       0.318182         0.378975  \n",
            "9       0.045455         0.062236  \n",
            "12      0.893939         0.650085  \n",
            "14      0.348485         0.314079  \n",
            "..           ...              ...  \n",
            "760     0.500000         0.418693  \n",
            "768     0.075758         0.073806  \n",
            "772     0.227273         0.289342  \n",
            "774     0.136364         0.475674  \n",
            "776     0.409091         0.583478  \n",
            "\n",
            "[350 rows x 7 columns]\n"
          ]
        }
      ]
    },
    {
      "cell_type": "code",
      "source": [
        "columns_list = midfielder_data_df.columns.tolist()\n",
        "print(columns_list)"
      ],
      "metadata": {
        "id": "S9EsynMYrESf"
      },
      "execution_count": null,
      "outputs": []
    },
    {
      "cell_type": "code",
      "source": [
        "import pandas as pd\n",
        "from sklearn.model_selection import train_test_split\n",
        "from sklearn.preprocessing import StandardScaler, OneHotEncoder\n",
        "from sklearn.compose import ColumnTransformer\n",
        "from sklearn.pipeline import Pipeline\n",
        "import xgboost as xgb\n",
        "\n",
        "\n",
        "# Define feature columns and target\n",
        "features = ['xg','goals','npxg_xg_assist','passes', 'passes_pct','assists_standings', 'tackles', 'tackles_won', 'challenges','blocks','blocked_shots',\n",
        "            'blocked_passes','interceptions','passes_into_final_third','progressive_carries_standings','pass_xa','assisted_shots','crosses_into_penalty_area',\n",
        "            'touches','take_ons_won','carries_progressive_distance','miscontrols','minutes', 'field_position','passes_total_distance','dispossessed']\n",
        "\n",
        "target = 'composite_score'  # Assume you're predicting a composite score for performance\n",
        "\n",
        "# Preprocessing pipeline\n",
        "preprocessor = ColumnTransformer(\n",
        "    transformers=[\n",
        "        ('num', StandardScaler(), [ 'passes', 'touches', 'minutes','passes_total_distance']),\n",
        "        ('cat', OneHotEncoder(), ['field_position'])  # Encoding the position column\n",
        "    ])\n",
        "# XGBoost model pipeline\n",
        "model = Pipeline(steps=[\n",
        "    ('preprocessor', preprocessor),\n",
        "    ('regressor', xgb.XGBRegressor(objective='reg:squarederror'))\n",
        "])\n",
        "\n",
        "# Train-test split\n",
        "X = midfielder_data_df[features]\n",
        "y = midfielder_data_df[target]\n",
        "X_train, X_test, y_train, y_test = train_test_split(X, y, test_size=0.2, random_state=42)\n",
        "\n",
        "# Train the model\n",
        "model.fit(X_train, y_train)\n",
        "\n",
        "# Evaluate the model\n",
        "score = model.score(X_test, y_test)\n",
        "print(f'R-squared: {score}')\n"
      ],
      "metadata": {
        "colab": {
          "base_uri": "https://localhost:8080/"
        },
        "id": "iG66-RhrRuZl",
        "outputId": "648f86d8-b6d1-4a6b-acb0-387a4cdd8429"
      },
      "execution_count": null,
      "outputs": [
        {
          "output_type": "stream",
          "name": "stdout",
          "text": [
            "R-squared: 0.8177940321188926\n"
          ]
        }
      ]
    },
    {
      "cell_type": "code",
      "source": [
        "import pandas as pd\n",
        "import xgboost as xgb\n",
        "from sklearn.model_selection import train_test_split\n",
        "from sklearn.preprocessing import StandardScaler, OneHotEncoder\n",
        "from sklearn.compose import ColumnTransformer\n",
        "from sklearn.pipeline import Pipeline\n",
        "from sklearn.metrics import mean_absolute_error, r2_score\n",
        "\n",
        "features = ['xg','goals','npxg_xg_assist','passes', 'passes_pct','assists_standings', 'tackles', 'tackles_won','interceptions', 'challenges','blocks','blocked_shots',\n",
        "            'blocked_passes','interceptions','passes_into_final_third','progressive_carries_standings','pass_xa','assisted_shots','crosses_into_penalty_area',\n",
        "            'touches','take_ons_won','carries_progressive_distance','miscontrols','minutes', 'position_standings','passes_total_distance','dispossessed']\n",
        "target = 'composite_score'  # Assume you're predicting a composite score for performance\n",
        "\n",
        "# Convert 'position_standings' to categorical dtype\n",
        "midfielder_data_df['position_standings'] = midfielder_data_df['position_standings'].astype('category')\n",
        "\n",
        "# Preprocessing pipeline\n",
        "preprocessor = ColumnTransformer(\n",
        "    transformers=[\n",
        "        ('num', StandardScaler(), ['challenges', 'progressive_carries_standings', 'carries_progressive_distance', 'passes', 'touches', 'minutes', 'passes_total_distance']),\n",
        "        ('cat', OneHotEncoder(), ['position_standings'])  # Encoding the position column\n",
        "    ])\n",
        "\n",
        "# Create XGBoost model pipeline\n",
        "model = Pipeline(steps=[\n",
        "    ('preprocessor', preprocessor),\n",
        "    ('regressor', xgb.XGBRegressor(objective='reg:squarederror', n_estimators=100, learning_rate=0.1,enable_categorical=True))\n",
        "])\n",
        "\n",
        "# Train-test split\n",
        "X = midfielder_data_df[features]\n",
        "y = midfielder_data_df[target]\n",
        "X_train, X_test, y_train, y_test = train_test_split(X, y, test_size=0.2, random_state=42)\n",
        "features = [f for f in features if f in X_train.columns]  # Remove missing features from the list\n",
        "\n",
        "# Train the model\n",
        "model.fit(X_train, y_train)\n",
        "\n",
        "# Predict on the test set\n",
        "y_pred = model.predict(X_test)\n",
        "\n",
        "r2 = r2_score(y_test, y_pred)\n",
        "mae = mean_absolute_error(y_test, y_pred)\n",
        "\n",
        "print(f\"R-squared: {r2}\")\n",
        "print(f\"Mean Absolute Error: {mae}\")\n",
        "# Assuming 'model' is your pipeline and 'xgboost' is the name of your regressor step\n",
        "xgb_model = model.named_steps['regressor']  # Access the XGBRegressor model\n",
        "\n",
        "# Now, you can get the feature importances\n",
        "importances = xgb_model.feature_importances_\n",
        "\n",
        "# Assuming you have a list of feature names\n",
        "# Combine features and their corresponding importances into a dictionary\n",
        "feature_weights = dict(zip(features, importances))\n",
        "print(\"Feature Weights:\", feature_weights)\n"
      ],
      "metadata": {
        "colab": {
          "base_uri": "https://localhost:8080/"
        },
        "id": "MDv9KlXxwhfS",
        "outputId": "ffc8cc26-37a7-4945-fd07-8eab961289da"
      },
      "execution_count": null,
      "outputs": [
        {
          "output_type": "stream",
          "name": "stdout",
          "text": [
            "R-squared: 0.8795997265277333\n",
            "Mean Absolute Error: 0.04003513368654802\n",
            "Feature Weights: {'xg': 0.0064431466, 'goals': 0.012344482, 'npxg_xg_assist': 0.09220243, 'passes': 0.028089311, 'passes_pct': 0.19654123, 'assists_standings': 0.64380556, 'tackles': 0.005249677, 'tackles_won': 0.0018167491, 'interceptions': 0.0033847285, 'challenges': 0.007989228, 'blocks': 0.00047324682, 'blocked_shots': 0.0016602756}\n"
          ]
        }
      ]
    },
    {
      "cell_type": "code",
      "source": [
        "print(X_train.columns)\n",
        "features = [f for f in features if f in X_train.columns]  # Remove missing features from the list\n"
      ],
      "metadata": {
        "colab": {
          "base_uri": "https://localhost:8080/"
        },
        "id": "RjoFXpi9354O",
        "outputId": "4972fed3-aece-47c2-c407-21347efe470a"
      },
      "execution_count": null,
      "outputs": [
        {
          "output_type": "stream",
          "name": "stdout",
          "text": [
            "Index(['goals_for', 'goals_against', 'goal_diff', 'xg_x', 'shots', 'xg_diff',\n",
            "       'shots_on_target', 'possession', 'progressive_passes_y', 'passes_pct',\n",
            "       'shots', 'previous_season_rank', 'previous_season_goal_diff',\n",
            "       'previous_season_points'],\n",
            "      dtype='object')\n"
          ]
        }
      ]
    },
    {
      "cell_type": "code",
      "source": [
        "from sklearn.model_selection import learning_curve\n",
        "\n",
        "train_sizes, train_scores, test_scores = learning_curve(\n",
        "    model, X_train, y_train, cv=5, n_jobs=-1,\n",
        "    train_sizes=[0.1, 0.2, 0.3, 0.4, 0.5, 0.6, 0.7, 0.8, 0.9, 1]\n",
        ")\n",
        "\n",
        "plt.plot(train_sizes, train_scores.mean(axis=1), label='Train Score')\n",
        "plt.plot(train_sizes, test_scores.mean(axis=1), label='Test Score')\n",
        "plt.xlabel('Training Size')\n",
        "plt.ylabel('Score')\n",
        "plt.legend()\n",
        "plt.show()\n"
      ],
      "metadata": {
        "colab": {
          "base_uri": "https://localhost:8080/",
          "height": 449
        },
        "id": "uzJI3RQc3bqp",
        "outputId": "a72b957a-b3db-489e-f3a9-522ea9fcf295"
      },
      "execution_count": null,
      "outputs": [
        {
          "output_type": "display_data",
          "data": {
            "text/plain": [
              "<Figure size 640x480 with 1 Axes>"
            ],
            "image/png": "[encoded data removed]"
          },
          "metadata": {}
        }
      ]
    },
    {
      "cell_type": "code",
      "source": [
        "import matplotlib.pyplot as plt\n",
        "\n",
        "# Sort feature importances for better visualization\n",
        "sorted_features = sorted(feature_weights.items(), key=lambda x: x[1], reverse=True)\n",
        "features, importances = zip(*sorted_features)\n",
        "\n",
        "# Plot\n",
        "plt.figure(figsize=(10, 6))\n",
        "plt.barh(features, importances, color=\"skyblue\")\n",
        "plt.xlabel(\"Feature Importance\")\n",
        "plt.ylabel(\"Features\")\n",
        "plt.title(\"XGBoost Feature Importances for Attacking Midfielders\")\n",
        "plt.gca().invert_yaxis()  # Invert y-axis to have the highest importance at the top\n",
        "plt.show()\n"
      ],
      "metadata": {
        "colab": {
          "base_uri": "https://localhost:8080/",
          "height": 564
        },
        "id": "OYKcysM3bNtV",
        "outputId": "f01919d4-f936-4ab0-d44f-b83be271dc85"
      },
      "execution_count": null,
      "outputs": [
        {
          "output_type": "display_data",
          "data": {
            "text/plain": [
              "<Figure size 1000x600 with 1 Axes>"
            ],
            "image/png": "[encoded data removed]"
          },
          "metadata": {}
        }
      ]
    },
    {
      "cell_type": "code",
      "source": [],
      "metadata": {
        "id": "lSxCXLrszKiA"
      },
      "execution_count": null,
      "outputs": []
    },
    {
      "cell_type": "code",
      "source": [
        "# Get the feature names from the preprocessor\n",
        "num_features = ['xg', 'passes', 'assists_standings', 'tackles', 'tackles_won', 'blocks',\n",
        "                'interceptions', 'progressive_carries_standings', 'touches', 'minutes']\n",
        "cat_features = ['position_standings']\n",
        "\n",
        "# Get the transformed feature names\n",
        "encoded_features = model.named_steps['preprocessor'].named_transformers_['cat'].get_feature_names_out(cat_features)\n",
        "all_features = num_features + list(encoded_features)\n",
        "\n",
        "# Retrieve feature importances\n",
        "xgb_model = model.named_steps['regressor']\n",
        "importances = xgb_model.feature_importances_\n",
        "\n",
        "# Combine features and their corresponding importances into a dictionary\n",
        "feature_weights = dict(zip(all_features, importances))\n",
        "print(\"Feature Weights:\", feature_weights)\n"
      ],
      "metadata": {
        "id": "gTx2vB6wJLsP"
      },
      "execution_count": null,
      "outputs": []
    },
    {
      "cell_type": "code",
      "source": [
        "import pandas as pd\n",
        "from sklearn.preprocessing import StandardScaler\n",
        "\n",
        "# Feature Weights from the regressor model\n",
        "feature_weights = {\n",
        "    'xg': 0.0028074777,\n",
        "    'npxg_xg_assist': 0.014511271,\n",
        "    'passes': 0.02521498,\n",
        "    'assists_standings': 0.049079727,\n",
        "    'tackles': 0.0041066767,\n",
        "    'tackles_won': 0.0021202709,\n",
        "    'challenges': 0.006845604,\n",
        "    'blocks': 0.0032814222,\n",
        "    'blocked_shots': 0.0037483529,\n",
        "    'blocked_passes': 0.0035554038,\n",
        "    'interceptions': 0.0039012823,\n",
        "    'passes_into_final_third': 0.00104916,\n",
        "    'progressive_carries_standings': 0.0051578134,\n",
        "    'touches': 0.25811186,\n",
        "    'take_ons_won': 0.0017958903,\n",
        "    'carries_progressive_distance': 0.085224025,\n",
        "    'miscontrols': 0.0011788538,\n",
        "    'minutes': 0.5146986,\n",
        "    'position_standings': 0.011747699,\n",
        "    'passes_total_distance': 2.458117e-05\n",
        "}\n",
        "feature_weights: {'xg': 0.006162409, 'goals': 0.010427738, 'npxg_xg_assist': 0.07742958, 'passes': 0.026498582, 'passes_pct': 0.17213306, 'assists_standings': 0.6811162, 'tackles': 0.0061150487, 'tackles_won': 0.004077891, 'interceptions': 0.00217005, 'challenges': 0.011250096, 'blocks': 0.00095857604, 'blocked_shots': 0.001660768}\n",
        "# Calculate the composite score using the weights\n",
        "midfielder_data_df['composite_score'] = (\n",
        "    feature_weights['xg'] * midfielder_data_df['xg'] +\n",
        "    feature_weights['npxg_xg_assist'] * midfielder_data_df['npxg_xg_assist'] +\n",
        "    feature_weights['passes'] * midfielder_data_df['passes'] +\n",
        "    feature_weights['assists_standings'] * midfielder_data_df['assists_standings'] +\n",
        "    feature_weights['tackles'] * midfielder_data_df['tackles'] +\n",
        "    feature_weights['tackles_won'] * midfielder_data_df['tackles_won'] +\n",
        "    feature_weights['challenges'] * midfielder_data_df['challenges'] +\n",
        "    feature_weights['blocks'] * midfielder_data_df['blocks'] +\n",
        "    feature_weights['blocked_shots'] * midfielder_data_df['blocked_shots'] +\n",
        "    feature_weights['blocked_passes'] * midfielder_data_df['blocked_passes'] +\n",
        "    feature_weights['interceptions'] * midfielder_data_df['interceptions'] +\n",
        "    feature_weights['passes_into_final_third'] * midfielder_data_df['passes_into_final_third'] +\n",
        "    feature_weights['progressive_carries_standings'] * midfielder_data_df['progressive_carries_standings'] +\n",
        "    feature_weights['touches'] * midfielder_data_df['touches'] +\n",
        "    feature_weights['take_ons_won'] * midfielder_data_df['take_ons_won']\n",
        ")\n",
        "\n",
        "# Display the dataframe with composite scores\n",
        "print(midfielder_data_df[['xg', 'npxg_xg_assist', 'passes', 'assists_standings', 'tackles', 'tackles_won', 'composite_score']])\n"
      ],
      "metadata": {
        "id": "85ycwoe-zMi-"
      },
      "execution_count": null,
      "outputs": []
    },
    {
      "cell_type": "code",
      "source": [
        "# Sort players by composite metric in descending order\n",
        "top_centerforwards = midfielder_data_df.sort_values(by='composite_score', ascending=False)\n",
        "\n",
        "# Display the top players\n",
        "print(top_centerforwards[['player', 'composite_score','team_standings']].head(10))\n"
      ],
      "metadata": {
        "id": "_I9verlE138u"
      },
      "execution_count": null,
      "outputs": []
    },
    {
      "cell_type": "markdown",
      "source": [
        "# TEAM:"
      ],
      "metadata": {
        "id": "gF-_nVj6e8vN"
      }
    },
    {
      "cell_type": "code",
      "source": [
        "import pandas as pd\n",
        "\n",
        "# Assuming LaLigaSquadStats and LaLigaStandings are dictionaries where keys are seasons\n",
        "# LaLigaSquadStats = {'2023-2024': ..., '2022-2023': ..., ...}\n",
        "# LaLigaStandings = {'2023-2024': ..., '2022-2023': ..., ...}\n",
        "\n",
        "# Initialize an empty list to store the combined DataFrames\n",
        "combined_season_dfs = []\n",
        "season = ['2023-2024', '2022-2023', '2021-2022', '2020-2021', '2019-2020', '2018-2019', '2017-2018']\n",
        "\n",
        "# Iterate through each season\n",
        "for year in season:\n",
        "    # Extract the squad stats and standings for the current season\n",
        "    squad_stats = pd.DataFrame(LaLigaSquadStats[year])\n",
        "    standings = pd.DataFrame(LaLigaStandings[year])\n",
        "    passing = pd.DataFrame(LaLigaPassing[year])\n",
        "    shooting = pd.DataFrame(LaLigaGoalShot[year])\n",
        "\n",
        "    # Add the 'season' column to both dataframes before merging\n",
        "    squad_stats['season'] = year\n",
        "    standings['season'] = year\n",
        "    passing['season'] = year\n",
        "    shooting['season'] = year\n",
        "    # Merge the squad stats and standings dataframes on 'team_name' and 'season'\n",
        "    # Merge squad_stats and standings on 'team' and 'season'\n",
        "    merged_df = pd.merge(squad_stats, standings, on=['team', 'season'], how='inner')\n",
        "\n",
        "    # Merge passing stats on 'team' and 'season'\n",
        "    merged_df = pd.merge(merged_df, passing, on=['team', 'season'], how='inner')\n",
        "\n",
        "    # Merge shooting stats on 'team' and 'season'\n",
        "    merged_df = pd.merge(merged_df, shooting, on=['team', 'season'], how='inner')\n",
        "    # Append the merged DataFrame to the list\n",
        "    combined_season_dfs.append(merged_df)\n",
        "\n",
        "# Concatenate all seasons into a single DataFrame\n",
        "combined_df = pd.concat(combined_season_dfs, ignore_index=True)\n",
        "\n",
        "# Display the combined DataFrame with the new 'season' column\n",
        "print(combined_df.columns)\n"
      ],
      "metadata": {
        "colab": {
          "base_uri": "https://localhost:8080/"
        },
        "id": "AKZABbK6fFUI",
        "outputId": "e183ee59-9aea-4bde-c416-9c09453d9cf3"
      },
      "execution_count": null,
      "outputs": [
        {
          "output_type": "stream",
          "name": "stdout",
          "text": [
            "Index(['team', 'players_used_x', 'avg_age', 'possession', 'games_x',\n",
            "       'games_starts', 'minutes', 'minutes_90s_x', 'goals_x', 'assists_x',\n",
            "       'goals_assists', 'goals_pens', 'pens_made_x', 'pens_att_x',\n",
            "       'cards_yellow', 'cards_red', 'xg_x', 'npxg_x', 'xg_assist_x',\n",
            "       'npxg_xg_assist', 'progressive_carries', 'progressive_passes_x',\n",
            "       'goals_per90', 'assists_per90', 'goals_assists_per90',\n",
            "       'goals_pens_per90', 'goals_assists_pens_per90', 'xg_per90',\n",
            "       'xg_assist_per90', 'xg_xg_assist_per90', 'npxg_per90',\n",
            "       'npxg_xg_assist_per90', 'season', 'rank', 'games_y', 'wins', 'ties',\n",
            "       'losses', 'goals_for', 'goals_against', 'goal_diff', 'points',\n",
            "       'points_avg', 'xg_for', 'xg_against', 'xg_diff', 'xg_diff_per90',\n",
            "       'attendance_per_g', 'top_team_scorers', 'top_keeper', 'notes',\n",
            "       'players_used_y', 'minutes_90s_y', 'passes_completed', 'passes',\n",
            "       'passes_pct', 'passes_total_distance', 'passes_progressive_distance',\n",
            "       'passes_completed_short', 'passes_short', 'passes_pct_short',\n",
            "       'passes_completed_medium', 'passes_medium', 'passes_pct_medium',\n",
            "       'passes_completed_long', 'passes_long', 'passes_pct_long', 'assists_y',\n",
            "       'xg_assist_y', 'pass_xa', 'xg_assist_net', 'assisted_shots',\n",
            "       'passes_into_final_third', 'passes_into_penalty_area',\n",
            "       'crosses_into_penalty_area', 'progressive_passes_y', 'players_used',\n",
            "       'minutes_90s', 'goals_y', 'shots', 'shots_on_target',\n",
            "       'shots_on_target_pct', 'shots_per90', 'shots_on_target_per90',\n",
            "       'goals_per_shot', 'goals_per_shot_on_target', 'average_shot_distance',\n",
            "       'shots_free_kicks', 'pens_made_y', 'pens_att_y', 'xg_y', 'npxg_y',\n",
            "       'npxg_per_shot', 'xg_net', 'npxg_net'],\n",
            "      dtype='object')\n"
          ]
        }
      ]
    },
    {
      "cell_type": "code",
      "source": [
        "\n",
        "# Calculate the change in team performance (lag features for the previous season)\n",
        "combined_df['previous_season_goal_diff'] = combined_df.groupby('team')['goal_diff'].shift(1)\n",
        "combined_df['previous_season_points'] = combined_df.groupby('team')['points'].shift(1)\n",
        "combined_df['previous_season_possession'] = combined_df.groupby('team')['possession'].shift(1)\n",
        "combined_df['previous_season_rank'] = combined_df.groupby('team')['rank'].shift(1)\n",
        "# Drop rows where previous season data is missing (e.g., first season for a team)\n",
        "combined_df = combined_df.dropna(subset=['previous_season_goal_diff', 'previous_season_points', 'previous_season_possession'])\n",
        "\n",
        "combined_df['rank_improvement'] = (combined_df['rank'] < combined_df['previous_season_rank']).astype(int)\n",
        "combined_df['goal_diff_improvement'] = (combined_df['goal_diff'] > combined_df['previous_season_goal_diff']).astype(int)\n",
        "combined_df['points_improvement'] = (combined_df['points'] > combined_df['previous_season_points']).astype(int)\n",
        "\n",
        "# You can choose which target variable to focus on based on the specific task.\n",
        "# For now, we will combine all improvements into a single improvement indicator:\n",
        "combined_df['team_improvement'] = combined_df[['rank_improvement', 'goal_diff_improvement', 'points_improvement']].sum(axis=1)\n",
        "combined_df['team_improvement'] = (combined_df['team_improvement'] > 1).astype(int)  # If any of the improvements are true, mark as improved\n",
        "\n",
        "\n",
        "# Display the updated DataFrame\n",
        "print(combined_df.head())\n",
        "\n",
        "# You can choose which target variable to focus on based on the specific task.\n",
        "# For now, we will combine all improvements into a single improvement indicator:\n",
        "combined_df['team_improvement'] = combined_df[['rank_improvement', 'goal_diff_improvement', 'points_improvement']].sum(axis=1)\n",
        "combined_df['team_improvement'] = (combined_df['team_improvement'] > 1).astype(int)  # If any of the improvements are true, mark as improved\n"
      ],
      "metadata": {
        "colab": {
          "base_uri": "https://localhost:8080/"
        },
        "id": "739ircwYghUq",
        "outputId": "74e389fb-53c4-450c-c9ff-b28cbb3df08d"
      },
      "execution_count": null,
      "outputs": [
        {
          "output_type": "stream",
          "name": "stdout",
          "text": [
            "               team  players_used_x  avg_age  possession  games_x  \\\n",
            "20          Almería              29     26.4        45.1       38   \n",
            "21    Athletic Club              26     27.4        51.6       38   \n",
            "22  Atlético Madrid              27     28.5        50.6       38   \n",
            "23        Barcelona              29     25.9        64.3       38   \n",
            "24            Betis              30     28.6        50.6       38   \n",
            "\n",
            "    games_starts minutes  minutes_90s_x  goals_x  assists_x  ...  xg_net  \\\n",
            "20           418   3,420           38.0       49         33  ...     3.5   \n",
            "21           418   3,420           38.0       46         33  ...    -8.2   \n",
            "22           418   3,420           38.0       68         51  ...     6.1   \n",
            "23           418   3,420           38.0       69         56  ...    -6.5   \n",
            "24           418   3,420           38.0       43         26  ...    -8.3   \n",
            "\n",
            "    npxg_net  previous_season_goal_diff  previous_season_points  \\\n",
            "20       3.8                      -32.0                    21.0   \n",
            "21      -7.7                       24.0                    68.0   \n",
            "22       5.9                       27.0                    76.0   \n",
            "23      -5.0                       35.0                    85.0   \n",
            "24      -9.3                        3.0                    57.0   \n",
            "\n",
            "    previous_season_possession  previous_season_rank  rank_improvement  \\\n",
            "20                        46.4                  19.0                 1   \n",
            "21                        49.8                   5.0                 0   \n",
            "22                        50.8                   4.0                 1   \n",
            "23                        64.3                   2.0                 1   \n",
            "24                        50.4                   7.0                 1   \n",
            "\n",
            "    goal_diff_improvement  points_improvement  team_improvement  \n",
            "20                      1                   1                 1  \n",
            "21                      0                   0                 0  \n",
            "22                      1                   1                 1  \n",
            "23                      1                   1                 1  \n",
            "24                      1                   1                 1  \n",
            "\n",
            "[5 rows x 103 columns]\n"
          ]
        }
      ]
    },
    {
      "cell_type": "code",
      "source": [
        "print(combined_df.columns)"
      ],
      "metadata": {
        "colab": {
          "base_uri": "https://localhost:8080/"
        },
        "id": "zJfziNA0lNUj",
        "outputId": "10e55bd2-98b7-4a37-9cff-7c07beef51b7"
      },
      "execution_count": null,
      "outputs": [
        {
          "output_type": "stream",
          "name": "stdout",
          "text": [
            "Index(['team', 'players_used_x', 'avg_age', 'possession', 'games_x',\n",
            "       'games_starts', 'minutes', 'minutes_90s_x', 'goals_x', 'assists_x',\n",
            "       ...\n",
            "       'xg_net', 'npxg_net', 'previous_season_goal_diff',\n",
            "       'previous_season_points', 'previous_season_possession',\n",
            "       'previous_season_rank', 'rank_improvement', 'goal_diff_improvement',\n",
            "       'points_improvement', 'team_improvement'],\n",
            "      dtype='object', length=103)\n"
          ]
        }
      ]
    },
    {
      "cell_type": "code",
      "source": [
        "# Import necessary libraries\n",
        "import pandas as pd\n",
        "from sklearn.model_selection import train_test_split\n",
        "from sklearn.linear_model import LogisticRegression\n",
        "from sklearn.ensemble import RandomForestClassifier\n",
        "from sklearn.metrics import classification_report, roc_auc_score, accuracy_score\n",
        "\n",
        "# Prepare the data\n",
        "# Feature columns: We'll use various team performance metrics as features (feel free to customize)\n",
        "features = [\n",
        "    'goals_for', 'goals_against', 'goal_diff', 'xg_x', 'shots', 'xg_diff', 'shots_on_target',\n",
        "    'possession', 'progressive_passes_y', 'passes_pct', 'shots','previous_season_rank',\n",
        "    'previous_season_goal_diff', 'previous_season_points'\n",
        "]\n",
        "\n",
        "# Target variable: team_improvement\n",
        "X = combined_df[features]\n",
        "y = combined_df['team_improvement']\n",
        "\n",
        "# Split the data into training and test sets (80% train, 20% test)\n",
        "X_train, X_test, y_train, y_test = train_test_split(X, y, test_size=0.2, random_state=42)\n",
        "\n",
        "# Logistic Regression Model (Baseline)\n",
        "logreg_model = LogisticRegression(max_iter=1000)\n",
        "logreg_model.fit(X_train, y_train)\n",
        "\n",
        "# Predict on the test set\n",
        "y_pred_logreg = logreg_model.predict(X_test)\n",
        "\n",
        "# Evaluation Metrics for Logistic Regression\n",
        "print(\"Logistic Regression - Classification Report:\")\n",
        "print(classification_report(y_test, y_pred_logreg))\n",
        "print(\"AUC-ROC:\", roc_auc_score(y_test, y_pred_logreg))\n",
        "print(\"Accuracy:\", accuracy_score(y_test, y_pred_logreg))\n",
        "\n",
        "# Random Forest Classifier Model (Final Model)\n",
        "rf_model = RandomForestClassifier(n_estimators=100, random_state=42,class_weight='balanced')\n",
        "rf_model.fit(X_train, y_train)\n",
        "\n",
        "# Predict on the test set\n",
        "y_pred_rf = rf_model.predict(X_test)\n",
        "\n",
        "# Evaluation Metrics for Random Forest Classifier\n",
        "print(\"\\nRandom Forest Classifier - Classification Report:\")\n",
        "print(classification_report(y_test, y_pred_rf))\n",
        "print(\"AUC-ROC:\", roc_auc_score(y_test, y_pred_rf))\n",
        "print(\"Accuracy:\", accuracy_score(y_test, y_pred_rf))\n"
      ],
      "metadata": {
        "colab": {
          "base_uri": "https://localhost:8080/"
        },
        "id": "Qsu4_ddFk4lA",
        "outputId": "2adda3c8-b72a-47b9-97eb-3ad07f80e581"
      },
      "execution_count": null,
      "outputs": [
        {
          "output_type": "stream",
          "name": "stdout",
          "text": [
            "Logistic Regression - Classification Report:\n",
            "              precision    recall  f1-score   support\n",
            "\n",
            "           0       0.56      1.00      0.71         5\n",
            "           1       1.00      0.78      0.88        18\n",
            "\n",
            "    accuracy                           0.83        23\n",
            "   macro avg       0.78      0.89      0.79        23\n",
            "weighted avg       0.90      0.83      0.84        23\n",
            "\n",
            "AUC-ROC: 0.8888888888888888\n",
            "Accuracy: 0.8260869565217391\n",
            "\n",
            "Random Forest Classifier - Classification Report:\n",
            "              precision    recall  f1-score   support\n",
            "\n",
            "           0       0.44      0.80      0.57         5\n",
            "           1       0.93      0.72      0.81        18\n",
            "\n",
            "    accuracy                           0.74        23\n",
            "   macro avg       0.69      0.76      0.69        23\n",
            "weighted avg       0.82      0.74      0.76        23\n",
            "\n",
            "AUC-ROC: 0.7611111111111112\n",
            "Accuracy: 0.7391304347826086\n"
          ]
        }
      ]
    },
    {
      "cell_type": "code",
      "source": [
        "from sklearn.model_selection import GridSearchCV\n",
        "from sklearn.ensemble import RandomForestClassifier\n",
        "from sklearn.metrics import classification_report, roc_auc_score, accuracy_score\n",
        "\n",
        "# Define the Random Forest Classifier\n",
        "rf_model = RandomForestClassifier(random_state=42)\n",
        "\n",
        "# Define the parameter grid for hyperparameter tuning\n",
        "param_grid = {\n",
        "    'n_estimators': [50, 100, 200],  # Number of trees in the forest\n",
        "    'max_depth': [None, 10, 20, 30],  # Maximum depth of trees\n",
        "    'min_samples_split': [2, 5, 10],  # Minimum samples required to split a node\n",
        "    'min_samples_leaf': [1, 2, 4],    # Minimum samples required to be at a leaf node\n",
        "    'max_features': ['auto', 'sqrt', 'log2']  # Number of features to consider at each split\n",
        "}\n",
        "\n",
        "# Initialize GridSearchCV\n",
        "grid_search = GridSearchCV(estimator=rf_model, param_grid=param_grid,\n",
        "                           cv=5, n_jobs=-1, verbose=2, scoring='accuracy')\n",
        "\n",
        "# Fit GridSearchCV to the training data\n",
        "grid_search.fit(X_train, y_train)\n",
        "\n",
        "# Print the best parameters found by GridSearchCV\n",
        "print(\"Best Parameters found: \", grid_search.best_params_)\n",
        "\n",
        "# Get the best model from the grid search\n",
        "best_rf_model = grid_search.best_estimator_\n",
        "\n",
        "# Predict on the test set using the best model\n",
        "y_pred_rf_best = best_rf_model.predict(X_test)\n",
        "\n",
        "# Evaluate the best model\n",
        "print(\"\\nRandom Forest with GridSearchCV - Classification Report:\")\n",
        "print(classification_report(y_test, y_pred_rf_best))\n",
        "print(\"AUC-ROC:\", roc_auc_score(y_test, y_pred_rf_best))\n",
        "print(\"Accuracy:\", accuracy_score(y_test, y_pred_rf_best))\n"
      ],
      "metadata": {
        "colab": {
          "base_uri": "https://localhost:8080/"
        },
        "id": "iZuIoSifszPk",
        "outputId": "2f71cbce-54da-413e-a811-9da0b26007fe"
      },
      "execution_count": null,
      "outputs": [
        {
          "output_type": "stream",
          "name": "stdout",
          "text": [
            "Fitting 5 folds for each of 324 candidates, totalling 1620 fits\n",
            "Best Parameters found:  {'max_depth': None, 'max_features': 'sqrt', 'min_samples_leaf': 2, 'min_samples_split': 2, 'n_estimators': 50}\n",
            "\n",
            "Random Forest with GridSearchCV - Classification Report:\n",
            "              precision    recall  f1-score   support\n",
            "\n",
            "           0       0.30      0.60      0.40         5\n",
            "           1       0.85      0.61      0.71        18\n",
            "\n",
            "    accuracy                           0.61        23\n",
            "   macro avg       0.57      0.61      0.55        23\n",
            "weighted avg       0.73      0.61      0.64        23\n",
            "\n",
            "AUC-ROC: 0.6055555555555556\n",
            "Accuracy: 0.6086956521739131\n"
          ]
        }
      ]
    },
    {
      "cell_type": "code",
      "source": [
        "# Assuming your models are named `log_reg` and `rf`\n",
        "\n",
        "log_reg_cm = confusion_matrix(y_test, logreg_model.predict(X_test))\n",
        "rf_cm = confusion_matrix(y_test, rf_model.predict(X_test))\n",
        "\n",
        "# Plot confusion matrix for Logistic Regression\n",
        "plt.figure(figsize=(10, 7))\n",
        "sns.heatmap(log_reg_cm, annot=True, fmt='d', cmap='Blues', xticklabels=['Not Improved', 'Improved'], yticklabels=['Not Improved', 'Improved'])\n",
        "plt.title('Logistic Regression - Confusion Matrix')\n",
        "plt.ylabel('Actual')\n",
        "plt.xlabel('Predicted')\n",
        "plt.show()\n",
        "\n",
        "# Plot confusion matrix for Random Forest\n",
        "plt.figure(figsize=(10, 7))\n",
        "sns.heatmap(rf_cm, annot=True, fmt='d', cmap='Blues', xticklabels=['Not Improved', 'Improved'], yticklabels=['Not Improved', 'Improved'])\n",
        "plt.title('Random Forest - Confusion Matrix')\n",
        "plt.ylabel('Actual')\n",
        "plt.xlabel('Predicted')\n",
        "plt.show()\n"
      ],
      "metadata": {
        "colab": {
          "base_uri": "https://localhost:8080/",
          "height": 1000
        },
        "id": "9D55zsopvKL4",
        "outputId": "5b0cbffb-f5a9-4341-cacf-60d61952a598"
      },
      "execution_count": null,
      "outputs": [
        {
          "output_type": "display_data",
          "data": {
            "text/plain": [
              "<Figure size 1000x700 with 2 Axes>"
            ],
            "image/png": "[encoded data removed]"
          },
          "metadata": {}
        },
        {
          "output_type": "display_data",
          "data": {
            "text/plain": [
              "<Figure size 1000x700 with 2 Axes>"
            ],
            "image/png": "[encoded data removed]"
          },
          "metadata": {}
        }
      ]
    },
    {
      "cell_type": "code",
      "source": [
        "from sklearn.metrics import precision_recall_curve\n",
        "\n",
        "# Compute precision-recall curve for both models\n",
        "log_reg_precision, log_reg_recall, _ = precision_recall_curve(y_test, logreg_model.predict_proba(X_test)[:, 1])\n",
        "rf_precision, rf_recall, _ = precision_recall_curve(y_test, rf_model.predict_proba(X_test)[:, 1])\n",
        "\n",
        "# Plot Precision-Recall curve\n",
        "plt.figure(figsize=(10, 7))\n",
        "plt.plot(log_reg_recall, log_reg_precision, color='blue', lw=2, label=f'Logistic Regression')\n",
        "plt.plot(rf_recall, rf_precision, color='red', lw=2, label=f'Random Forest')\n",
        "plt.xlabel('Recall')\n",
        "plt.ylabel('Precision')\n",
        "plt.title('Precision-Recall Curve')\n",
        "plt.legend(loc='lower left')\n",
        "plt.show()\n"
      ],
      "metadata": {
        "colab": {
          "base_uri": "https://localhost:8080/",
          "height": 641
        },
        "id": "UQ5iX0Z_vDhk",
        "outputId": "75688745-45a8-4e2d-abfa-d5c45422cfc0"
      },
      "execution_count": null,
      "outputs": [
        {
          "output_type": "display_data",
          "data": {
            "text/plain": [
              "<Figure size 1000x700 with 1 Axes>"
            ],
            "image/png": "[encoded data removed]"
          },
          "metadata": {}
        }
      ]
    },
    {
      "cell_type": "code",
      "source": [
        "from sklearn.metrics import roc_curve, auc\n",
        "# Compute ROC curve for both models\n",
        "log_reg_fpr, log_reg_tpr, _ = roc_curve(y_test, logreg_model.predict_proba(X_test)[:,1])\n",
        "rf_fpr, rf_tpr, _ = roc_curve(y_test, rf_model.predict_proba(X_test)[:,1])\n",
        "\n",
        "# Compute AUC for both models\n",
        "log_reg_auc = auc(log_reg_fpr, log_reg_tpr)\n",
        "rf_auc = auc(rf_fpr, rf_tpr)\n",
        "\n",
        "# Plot ROC curve\n",
        "plt.figure(figsize=(10, 7))\n",
        "plt.plot(log_reg_fpr, log_reg_tpr, color='blue', lw=2, label=f'Logistic Regression (AUC = {log_reg_auc:.2f})')\n",
        "plt.plot(rf_fpr, rf_tpr, color='red', lw=2, label=f'Random Forest (AUC = {rf_auc:.2f})')\n",
        "plt.plot([0, 1], [0, 1], color='gray', linestyle='--')\n",
        "plt.xlabel('False Positive Rate')\n",
        "plt.ylabel('True Positive Rate')\n",
        "plt.title('Receiver Operating Characteristic (ROC) Curve')\n",
        "plt.legend(loc='lower right')\n",
        "plt.show()\n"
      ],
      "metadata": {
        "colab": {
          "base_uri": "https://localhost:8080/",
          "height": 641
        },
        "id": "Gxsjxrs9v8Tb",
        "outputId": "0d9463a4-2e83-4d28-b7e8-33ab9fc9e224"
      },
      "execution_count": null,
      "outputs": [
        {
          "output_type": "display_data",
          "data": {
            "text/plain": [
              "<Figure size 1000x700 with 1 Axes>"
            ],
            "image/png": "[encoded data removed]"
          },
          "metadata": {}
        }
      ]
    }
  ],
  "metadata": {
    "colab": {
      "provenance": []
    },
    "kernelspec": {
      "display_name": "Python 3",
      "name": "python3"
    },
    "language_info": {
      "name": "python"
    }
  },
  "nbformat": 4,
  "nbformat_minor": 0
}