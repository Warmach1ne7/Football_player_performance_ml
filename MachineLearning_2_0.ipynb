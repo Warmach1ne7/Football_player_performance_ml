{
 "cells": [
  {
   "cell_type": "markdown",
   "metadata": {
    "id": "GyViBM5-0z2q"
   },
   "source": [
    "Create a composite score for players of different position\n",
    "1.  Attackers:"
   ]
  },
  {
   "cell_type": "code",
   "execution_count": 2,
   "metadata": {
    "id": "tgNKbKNnHgU8"
   },
   "outputs": [],
   "source": [
    "import pandas as pd"
   ]
  },
  {
   "cell_type": "code",
   "execution_count": null,
   "metadata": {
    "id": "FTypoJlCKj2W"
   },
   "outputs": [],
   "source": [
    "scrapeoutputurl = \"E:\\\\FBref_EPL-master\\\\Scrape_output\\\\\"\n",
    "Fbreflinksfolder = \n",
    "LaLigaURL = pd.read_csv(\"E:\\\\FBref_EPL-master\\\\FBref_all_links_csv\\\\Fbref_laliga_stats_url.csv\")\n",
    "LaLigaPlayersURL = pd.read_csv(\"E:\\\\FBref_EPL-master\\\\FBref_all_links_csv\\\\Fbref_laliga_players.csv\")\n",
    "BundesligaURL = pd.read_csv(\"E:\\\\FBref_EPL-master\\\\FBref_all_links_csv\\\\Fbref_bundesliga_players.csv\")\n",
    "Ligue1Url = \n",
    "SerieAUrl = \n",
    "TurkishSuperligUrl = \n",
    "BrazilSerieA = \n",
    "Eredivisie = \n",
    "AustrianBundesliga = "
   ]
  },
  {
   "cell_type": "code",
   "execution_count": 4,
   "metadata": {
    "colab": {
     "base_uri": "https://localhost:8080/"
    },
    "id": "YjuGhX5pMk0K",
    "outputId": "30997dbb-2403-4a11-a18d-5e9cd56c24fc"
   },
   "outputs": [
    {
     "name": "stdout",
     "output_type": "stream",
     "text": [
      "2023-2024\n",
      "https://fbref.com/en/comps/12/2023-2024/2023-2024-La-Liga-Stats\n",
      "2022-2023\n",
      "https://fbref.com/en/comps/12/2022-2023/2022-2023-La-Liga-Stats\n",
      "2021-2022\n",
      "https://fbref.com/en/comps/12/2021-2022/2021-2022-La-Liga-Stats\n",
      "2020-2021\n",
      "https://fbref.com/en/comps/12/2020-2021/2020-2021-La-Liga-Stats\n",
      "2019-2020\n",
      "https://fbref.com/en/comps/12/2019-2020/2019-2020-La-Liga-Stats\n",
      "2018-2019\n",
      "https://fbref.com/en/comps/12/2018-2019/2018-2019-La-Liga-Stats\n",
      "2017-2018\n",
      "https://fbref.com/en/comps/12/2017-2018/2017-2018-La-Liga-Stats\n",
      "2016-2017\n",
      "https://fbref.com/en/comps/12/2016-2017/2016-2017-La-Liga-Stats\n",
      "2015-2016\n",
      "https://fbref.com/en/comps/12/2015-2016/2015-2016-La-Liga-Stats\n",
      "2014-2015\n",
      "https://fbref.com/en/comps/12/2014-2015/2014-2015-La-Liga-Stats\n",
      "2013-2014\n",
      "https://fbref.com/en/comps/12/2013-2014/2013-2014-La-Liga-Stats\n",
      "2012-2013\n",
      "https://fbref.com/en/comps/12/2012-2013/2012-2013-La-Liga-Stats\n",
      "2011-2012\n",
      "https://fbref.com/en/comps/12/2011-2012/2011-2012-La-Liga-Stats\n",
      "2010-2011\n",
      "https://fbref.com/en/comps/12/2010-2011/2010-2011-La-Liga-Stats\n",
      "2009-2010\n",
      "https://fbref.com/en/comps/12/2009-2010/2009-2010-La-Liga-Stats\n",
      "15\n",
      "Number of Laliga Squad sheets: 15\n",
      "Number of Laliga Standings sheets: 15\n",
      "Number of Laliga Passing sheets: 7\n",
      "Number of Laliga Defence sheets: 7\n",
      "Number of Laliga Possession sheets: 7\n",
      "Number of Laliga Goal Shot sheets: 7\n",
      "Number of Laliga Goalkeeping sheets: 15\n"
     ]
    }
   ],
   "source": [
    "LaLigaSquadStats = {}\n",
    "LaLigaStandings = {}\n",
    "LaLigaPassing = {}\n",
    "LaLigaDefence = {}\n",
    "LaLigaPossession = {}\n",
    "LaLigaGoalShot = {}\n",
    "LaLigaGoalkeeping = {}\n",
    "season = []\n",
    "for url in LaLigaURL:\n",
    "    k = url.rfind(\"/\")\n",
    "    file_name = url[k+1:]\n",
    "    file_path = scrapeoutputurl +\"LaLiga\\\\\" + file_name + \".xlsx\"\n",
    "    year = file_name.split(\"-La-Liga-Stats\")[0]\n",
    "    season.append(year)\n",
    "    print(year)\n",
    "    print(url)\n",
    "    # Read all sheets\n",
    "    all_sheets_dict = pd.read_excel(file_path, sheet_name=None)\n",
    "\n",
    "    # Append relevant sheets to their respective lists\n",
    "    if \"Squad\" in all_sheets_dict:\n",
    "        #LaLigaSquadStats.append(all_sheets_dict[\"Squad\"])\n",
    "        LaLigaSquadStats[year] = all_sheets_dict[\"Squad\"]\n",
    "    if \"Standings\" in all_sheets_dict:\n",
    "        LaLigaStandings[year] = all_sheets_dict[\"Standings\"]\n",
    "    if \"Passing\" in all_sheets_dict:\n",
    "        LaLigaPassing[year] = all_sheets_dict[\"Passing\"]\n",
    "    if \"Defence\" in all_sheets_dict:\n",
    "        LaLigaDefence[year] = all_sheets_dict[\"Defence\"]\n",
    "    if \"Possession\" in all_sheets_dict:\n",
    "        LaLigaPossession[year] = all_sheets_dict[\"Possession\"]\n",
    "    if \"Goal Shot\" in all_sheets_dict:\n",
    "        LaLigaGoalShot[year] = all_sheets_dict[\"Goal Shot\"]\n",
    "    if \"Goalkeeping\" in all_sheets_dict:\n",
    "        LaLigaGoalkeeping[year] = all_sheets_dict[\"Goalkeeping\"]\n",
    "print(len(LaLigaStandings))\n",
    "# Print the number of dataframes loaded for verification\n",
    "print(f\"Number of Laliga Squad sheets: {len(LaLigaSquadStats)}\")\n",
    "print(f\"Number of Laliga Standings sheets: {len(LaLigaStandings)}\")\n",
    "print(f\"Number of Laliga Passing sheets: {len(LaLigaPassing)}\")\n",
    "print(f\"Number of Laliga Defence sheets: {len(LaLigaDefence)}\")\n",
    "print(f\"Number of Laliga Possession sheets: {len(LaLigaPossession)}\")\n",
    "print(f\"Number of Laliga Goal Shot sheets: {len(LaLigaGoalShot)}\")\n",
    "print(f\"Number of Laliga Goalkeeping sheets: {len(LaLigaGoalkeeping)}\")"
   ]
  },
  {
   "cell_type": "code",
   "execution_count": 5,
   "metadata": {},
   "outputs": [
    {
     "name": "stdout",
     "output_type": "stream",
     "text": [
      "['2023-2024', '2022-2023', '2021-2022', '2020-2021', '2019-2020', '2018-2019', '2017-2018', '2016-2017', '2015-2016', '2014-2015', '2013-2014', '2012-2013', '2011-2012', '2010-2011', '2009-2010']\n"
     ]
    }
   ],
   "source": [
    "print(season)"
   ]
  },
  {
   "cell_type": "code",
   "execution_count": null,
   "metadata": {
    "colab": {
     "base_uri": "https://localhost:8080/"
    },
    "id": "cDg6dopUHC3I",
    "outputId": "bac6bfc2-75df-4262-d5cf-6329d7017b0a"
   },
   "outputs": [
    {
     "name": "stdout",
     "output_type": "stream",
     "text": [
      "E:\\FBref_EPL-master\\Scrape_output\\Bundesliga\\2023-2024-Bundesliga-Stats.xlsx\n",
      "dict_keys(['Standings', 'Table_2', 'Squad', 'vs Squad', 'Goalkeeping', 'vs Goalkeeping', 'Table_7', 'Table_8', 'Shots', 'vs Shots', 'Passing', 'vs Passing', 'Table_13', 'Table_14', 'Table_15', 'Table_16', 'Defences', 'vs Defences', 'Possession', 'vs Possession', 'Table_21', 'Table_22', 'Table_23', 'Table_24', 'Table_25'])\n",
      "E:\\FBref_EPL-master\\Scrape_output\\Bundesliga\\2022-2023-Bundesliga-Stats.xlsx\n",
      "dict_keys(['Standings', 'Table_2', 'Squad', 'vs Squad', 'Goalkeeping', 'vs Goalkeeping', 'Table_7', 'Table_8', 'Shots', 'vs Shots', 'Passing', 'vs Passing', 'Table_13', 'Table_14', 'Table_15', 'Table_16', 'Defences', 'vs Defences', 'Possession', 'vs Possession', 'Table_21', 'Table_22', 'Table_23', 'Table_24', 'Table_25'])\n",
      "E:\\FBref_EPL-master\\Scrape_output\\Bundesliga\\2021-2022-Bundesliga-Stats.xlsx\n",
      "dict_keys(['Standings', 'Table_2', 'Squad', 'vs Squad', 'Goalkeeping', 'vs Goalkeeping', 'Table_7', 'Table_8', 'Shots', 'vs Shots', 'Passing', 'vs Passing', 'Table_13', 'Table_14', 'Table_15', 'Table_16', 'Defences', 'vs Defences', 'Posession', 'vs Possession', 'Table_21', 'Table_22', 'Table_23', 'Table_24', 'Table_25'])\n",
      "E:\\FBref_EPL-master\\Scrape_output\\Bundesliga\\2020-2021-Bundesliga-Stats.xlsx\n",
      "dict_keys(['Standings', 'Table_2', 'Squad', 'vs Squad', 'Goalkeeping', 'vs Goalkeeping', 'Table_7', 'Table_8', 'Shots', 'vs Shots', 'Passing', 'vs Passing', 'Table_13', 'Table_14', 'Table_15', 'Table_16', 'Defences', 'vs Defences', 'Possession', 'vs Possession', 'Table_21', 'Table_22', 'Table_23', 'Table_24', 'Table_25'])\n",
      "E:\\FBref_EPL-master\\Scrape_output\\Bundesliga\\2019-2020-Bundesliga-Stats.xlsx\n",
      "dict_keys(['Standings', 'Table_2', 'Squad', 'vs Squad', 'Goalkeeping', 'vs Goalkeeping', 'Table_7', 'Table_8', 'Shots', 'vs Shots', 'Passing', 'vs Passing', 'Table_13', 'Table_14', 'Table_15', 'Table_16', 'Defences', 'vs Defences', 'Possession', 'vs Possession', 'Table_21', 'Table_22', 'Table_23', 'Table_24', 'Table_25'])\n",
      "E:\\FBref_EPL-master\\Scrape_output\\Bundesliga\\2018-2019-Bundesliga-Stats.xlsx\n",
      "dict_keys(['Standings', 'Table_2', 'Squad', 'vs Squad', 'Goalkeeping', 'vs Goalkeeping', 'Table_7', 'Table_8', 'Shots', 'vs Shots', 'Passing', 'vs Passing', 'Table_13', 'Table_14', 'Table_15', 'Table_16', 'Defences', 'vs Defences', 'Possession', 'vs Possession', 'Table_21', 'Table_22', 'Table_23', 'Table_24', 'Table_25'])\n",
      "E:\\FBref_EPL-master\\Scrape_output\\Bundesliga\\2017-2018-Bundesliga-Stats.xlsx\n",
      "dict_keys(['Standings', 'Table_2', 'Squad', 'vs Squad', 'Goalkeeping', 'vs Goalkeeping', 'Table_7', 'Table_8', 'Shots', 'vs Shots', 'Passing', 'vs Passing', 'Table_13', 'Table_14', 'gyiufij', 'Table_16', 'Defences', 'vs Defences', 'Possession', 'vs Posession', 'Table_21', 'Table_22', 'Table_23', 'Table_24', 'Table_25'])\n",
      "E:\\FBref_EPL-master\\Scrape_output\\Bundesliga\\2016-2017-Bundesliga-Stats.xlsx\n",
      "dict_keys(['Standings', 'Table_2', 'Squad', 'vs Squad', 'Goalkeeping', 'vs Goalkeeping', 'Shots', 'vs Shots', 'Table_9', 'Table_10', 'Defences', 'vs Defences', 'Table_13'])\n",
      "E:\\FBref_EPL-master\\Scrape_output\\Bundesliga\\2015-2016-Bundesliga-Stats.xlsx\n",
      "dict_keys(['Standings', 'Table_2', 'Squad', 'vs Squad', 'Goalkeeping', 'vs Goalkeeping', 'Shots', 'vs Shots', 'Table_9', 'Table_10', 'Defences', 'vs Defences', 'Table_13'])\n",
      "E:\\FBref_EPL-master\\Scrape_output\\Bundesliga\\2014-2015-Bundesliga-Stats.xlsx\n",
      "dict_keys(['Standings', 'Table_2', 'Squad', 'vs Squad', 'Goalkeeping', 'vs Goalkeeping', 'Shots', 'vs Shots', 'Table_9', 'Table_10', 'Defences', 'vs Defences', 'Table_13'])\n",
      "E:\\FBref_EPL-master\\Scrape_output\\Bundesliga\\2013-2014-Bundesliga-Stats.xlsx\n",
      "dict_keys(['Standings', 'Table_2', 'Squad', 'Table_4', 'Goalkeeping', 'Table_6', 'Shots', 'Table_8', 'Table_9', 'Table_10', 'Table_11', 'Table_12', 'Table_13'])\n",
      "E:\\FBref_EPL-master\\Scrape_output\\Bundesliga\\2012-2013-Bundesliga-Stats.xlsx\n",
      "dict_keys(['Standings', 'Table_2', 'Squad', 'vs Squad', 'Goalkeeping', 'vs Goalkeeping', 'Shots', 'Table_8', 'Table_9', 'Table_10', 'Table_11', 'Table_12', 'Table_13'])\n",
      "E:\\FBref_EPL-master\\Scrape_output\\Bundesliga\\2011-2012-Bundesliga-Stats.xlsx\n",
      "dict_keys(['Standings', 'Table_2', 'Squad', 'vs Squad', 'Goalkeeping', 'vs Goalkeeping', 'Shots', 'Table_8', 'Table_9', 'Table_10', 'Table_11', 'Table_12', 'Table_13'])\n",
      "E:\\FBref_EPL-master\\Scrape_output\\Bundesliga\\2010-2011-Bundesliga-Stats.xlsx\n",
      "dict_keys(['Standings', 'Table_2', 'Squad', 'Table_4', 'Goalkeeping', 'vs Goalkeeping', 'Shots', 'vs Shots', 'Table_9', 'Table_10', 'Table_11', 'Table_12', 'Table_13'])\n",
      "E:\\FBref_EPL-master\\Scrape_output\\Bundesliga\\2009-2010-Bundesliga-Stats.xlsx\n",
      "dict_keys(['Standings', 'Table_2', 'Squad', 'Table_4', 'Goalkeeping', 'Table_6', 'Shots', 'Table_8', 'Table_9', 'Table_10', 'Table_11', 'Table_12', 'Table_13'])\n",
      "Number of Bundesliga Squad sheets: 15\n",
      "Number of Bundesliga Standings sheets: 15\n",
      "Number of Bundesliga Passing sheets: 7\n",
      "Number of Bundesliga Defence sheets: 10\n",
      "Number of Bundesliga Possession sheets: 6\n",
      "Number of Bundesliga Goal Shot sheets: 15\n",
      "Number of Bundesliga goalkeeping sheets: 15\n"
     ]
    }
   ],
   "source": [
    "# Initialize lists for Bundesliga dataframes\n",
    "BundesligaSquadStats = {}\n",
    "BundesligaStandings = {}\n",
    "BundesligaPassing = {}\n",
    "BundesligaDefence = {}\n",
    "BundesligaPossession = {}\n",
    "BundesligaGoalShot = {}\n",
    "BundesligaGoalkeeping = {}\n",
    "for url in BundesligaURL:  # Assume BundesligaURL is defined with appropriate URLs\n",
    "    k = url.rfind(\"/\")\n",
    "    file_name = url[k+1:]\n",
    "    file_path = scrapeoutputurl +\"Bundesliga\\\\\"+ file_name + \".xlsx\"\n",
    "    year = file_name.split(\"-Bundesliga-Stats\")[0]\n",
    "    #print(year)\n",
    "    print(file_path)\n",
    "\n",
    "    # Read all sheets\n",
    "    all_sheets_dict = pd.read_excel(file_path, sheet_name=None)\n",
    "\n",
    "    # Append relevant sheets to their respective lists\n",
    "    if \"Squad\" in all_sheets_dict:\n",
    "        BundesligaSquadStats[year] = all_sheets_dict[\"Squad\"]\n",
    "    if \"Standings\" in all_sheets_dict:\n",
    "        BundesligaStandings[year] = all_sheets_dict[\"Standings\"]\n",
    "    if \"Passing\" in all_sheets_dict:\n",
    "        BundesligaPassing[year] = all_sheets_dict[\"Passing\"]\n",
    "    if \"Defences\" in all_sheets_dict:\n",
    "        BundesligaDefence[year] = all_sheets_dict[\"Defences\"]\n",
    "    if \"Possession\" in all_sheets_dict:\n",
    "        BundesligaPossession[year] = all_sheets_dict[\"Possession\"]\n",
    "    if \"Shots\" in all_sheets_dict:\n",
    "        BundesligaGoalShot[year] = all_sheets_dict[\"Shots\"]\n",
    "    if \"Goalkeeping\" in all_sheets_dict:\n",
    "        BundesligaGoalkeeping[year] = all_sheets_dict[\"Goalkeeping\"]\n",
    "# Print the number of dataframes loaded for verification\n",
    "print(f\"Number of Bundesliga Squad sheets: {len(BundesligaSquadStats)}\")\n",
    "print(f\"Number of Bundesliga Standings sheets: {len(BundesligaStandings)}\")\n",
    "print(f\"Number of Bundesliga Passing sheets: {len(BundesligaPassing)}\")\n",
    "print(f\"Number of Bundesliga Defence sheets: {len(BundesligaDefence)}\")\n",
    "print(f\"Number of Bundesliga Possession sheets: {len(BundesligaPossession)}\")\n",
    "print(f\"Number of Bundesliga Goal Shot sheets: {len(BundesligaGoalShot)}\")\n",
    "print(f\"Number of Bundesliga goalkeeping sheets: {len(BundesligaGoalkeeping)}\")\n"
   ]
  },
  {
   "cell_type": "code",
   "execution_count": null,
   "metadata": {},
   "outputs": [],
   "source": [
    "Ligue1url = \"https://fbref.com/en/comps/13/\""
   ]
  },
  {
   "cell_type": "code",
   "execution_count": null,
   "metadata": {
    "id": "Wb0UxmGxTCd_"
   },
   "outputs": [
    {
     "name": "stdout",
     "output_type": "stream",
     "text": [
      "E:\\FBref_EPL-master\\Scrape_output\\Ligue1\\2023-2024-Ligue-1-Stats.xlsx\n",
      "E:\\FBref_EPL-master\\Scrape_output\\Ligue1\\2022-2023-Ligue-1-Stats.xlsx\n",
      "E:\\FBref_EPL-master\\Scrape_output\\Ligue1\\2021-2022-Ligue-1-Stats.xlsx\n",
      "E:\\FBref_EPL-master\\Scrape_output\\Ligue1\\2020-2021-Ligue-1-Stats.xlsx\n",
      "E:\\FBref_EPL-master\\Scrape_output\\Ligue1\\2019-2020-Ligue-1-Stats.xlsx\n",
      "E:\\FBref_EPL-master\\Scrape_output\\Ligue1\\2018-2019-Ligue-1-Stats.xlsx\n",
      "E:\\FBref_EPL-master\\Scrape_output\\Ligue1\\2017-2018-Ligue-1-Stats.xlsx\n",
      "E:\\FBref_EPL-master\\Scrape_output\\Ligue1\\2016-2017-Ligue-1-Stats.xlsx\n",
      "E:\\FBref_EPL-master\\Scrape_output\\Ligue1\\2015-2016-Ligue-1-Stats.xlsx\n",
      "E:\\FBref_EPL-master\\Scrape_output\\Ligue1\\2014-2015-Ligue-1-Stats.xlsx\n",
      "E:\\FBref_EPL-master\\Scrape_output\\Ligue1\\2013-2014-Ligue-1-Stats.xlsx\n",
      "E:\\FBref_EPL-master\\Scrape_output\\Ligue1\\2012-2013-Ligue-1-Stats.xlsx\n",
      "E:\\FBref_EPL-master\\Scrape_output\\Ligue1\\2011-2012-Ligue-1-Stats.xlsx\n",
      "E:\\FBref_EPL-master\\Scrape_output\\Ligue1\\2010-2011-Ligue-1-Stats.xlsx\n",
      "E:\\FBref_EPL-master\\Scrape_output\\Ligue1\\2009-2010-Ligue-1-Stats.xlsx\n"
     ]
    },
    {
     "data": {
      "text/plain": [
       "'# Print the number of dataframes loaded for verification\\nprint(f\"Number of Bundesliga Squad sheets: {len(BundesligaSquadStats)}\")\\nprint(f\"Number of Bundesliga Standings sheets: {len(BundesligaStandings)}\")\\nprint(f\"Number of Bundesliga Passing sheets: {len(BundesligaPassing)}\")\\nprint(f\"Number of Bundesliga Defence sheets: {len(BundesligaDefence)}\")\\nprint(f\"Number of Bundesliga Possession sheets: {len(BundesligaPossession)}\")\\nprint(f\"Number of Bundesliga Goal Shot sheets: {len(BundesligaGoalShot)}\")\\nprint(f\"Number of Bundesliga goalkeeping sheets: {len(BundesligaGoalkeeping)}\")'"
      ]
     },
     "execution_count": 8,
     "metadata": {},
     "output_type": "execute_result"
    }
   ],
   "source": [
    "# Initialize lists for Bundesliga dataframes\n",
    "Ligue1SquadStats = {}\n",
    "Ligue1Standings = {}\n",
    "Ligue1Passing = {}\n",
    "Ligue1Defence = {}\n",
    "Ligue1Possession = {}\n",
    "Ligue1GoalShot = {}\n",
    "Ligue1Goalkeeping = {}\n",
    "\n",
    "AustrianBundesligaSquadstats = {}\n",
    "AustrianBundesligaStandings = {}\n",
    "AustrianBundesligaPassing = {}\n",
    "AustrianBundesligaDefence = {}\n",
    "AustrianBundesligaPossession = {}\n",
    "AustrianBundesligaGoalShot = {}\n",
    "AustrianBundesligaGoalkeeping = {}\n",
    "\n",
    "SerieASquadStats = {}\n",
    "SerieAStandings = {}\n",
    "SerieAPassing = {}\n",
    "SerieADefence = {}\n",
    "SerieAPossession = {}\n",
    "SerieAGoalShot = {}\n",
    "SerieAGoalkeeping = {}\n",
    "for year in season:\n",
    "    ligue1_urlname = scrapeoutputurl + \"Ligue1\\\\\" + year + \"-Ligue-1-Stats.xlsx\"\n",
    "    serieA_urlname = scrapeoutputurl + \"SerieA\\\\\" + year + \"-Serie-A-Stats.xlsx\"\n",
    "\n",
    "    ligue1_all_sheets_dict = pd.read_excel(ligue1_urlname, sheet_name=None)\n",
    "\n",
    "    \n",
    "\n",
    "\"\"\"# Print the number of dataframes loaded for verification\n",
    "print(f\"Number of Bundesliga Squad sheets: {len(BundesligaSquadStats)}\")\n",
    "print(f\"Number of Bundesliga Standings sheets: {len(BundesligaStandings)}\")\n",
    "print(f\"Number of Bundesliga Passing sheets: {len(BundesligaPassing)}\")\n",
    "print(f\"Number of Bundesliga Defence sheets: {len(BundesligaDefence)}\")\n",
    "print(f\"Number of Bundesliga Possession sheets: {len(BundesligaPossession)}\")\n",
    "print(f\"Number of Bundesliga Goal Shot sheets: {len(BundesligaGoalShot)}\")\n",
    "print(f\"Number of Bundesliga goalkeeping sheets: {len(BundesligaGoalkeeping)}\")\"\"\""
   ]
  },
  {
   "cell_type": "code",
   "execution_count": 39,
   "metadata": {},
   "outputs": [
    {
     "name": "stdout",
     "output_type": "stream",
     "text": [
      "dict_keys(['2023-2024', '2022-2023', '2020-2021', '2019-2020', '2018-2019', '2017-2018'])\n"
     ]
    }
   ],
   "source": [
    "print(BundesligaPossession.keys())"
   ]
  }
 ],
 "metadata": {
  "colab": {
   "provenance": []
  },
  "kernelspec": {
   "display_name": "Python 3",
   "name": "python3"
  },
  "language_info": {
   "codemirror_mode": {
    "name": "ipython",
    "version": 3
   },
   "file_extension": ".py",
   "mimetype": "text/x-python",
   "name": "python",
   "nbconvert_exporter": "python",
   "pygments_lexer": "ipython3",
   "version": "3.12.6"
  }
 },
 "nbformat": 4,
 "nbformat_minor": 0
}
